{
 "cells": [
  {
   "cell_type": "code",
   "execution_count": 3,
   "id": "1e4574fe",
   "metadata": {},
   "outputs": [],
   "source": [
    "from docker_model_runner import Client"
   ]
  },
  {
   "cell_type": "code",
   "execution_count": 4,
   "id": "3df25c07",
   "metadata": {},
   "outputs": [],
   "source": [
    "client = Client()"
   ]
  },
  {
   "cell_type": "code",
   "execution_count": 5,
   "id": "3ba78c6b",
   "metadata": {},
   "outputs": [],
   "source": [
    "response = client.chat.completions.create(\n",
    "    model=\"ai/gemma3\",\n",
    "    messages=[\n",
    "        {\"role\" : \"system\", \"content\" : \"You are a helpful assistant.\"},\n",
    "        {\"role\" : \"user\",\"content\" : \"What is Machiner Learning?\"}\n",
    "    ]\n",
    ")"
   ]
  },
  {
   "cell_type": "code",
   "execution_count": 8,
   "id": "1c91c91d",
   "metadata": {},
   "outputs": [
    {
     "name": "stdout",
     "output_type": "stream",
     "text": [
      "Okay, let's break down what Machine Learning is! It’s a really hot topic right now, and it can seem a bit complex, so I'll try to explain it clearly.\n",
      "\n",
      "**In simple terms, Machine Learning is about teaching computers to learn from data *without* being explicitly programmed for every single task.** \n",
      "\n",
      "Think of it like teaching a child. You don’t give a child a rigid set of instructions for *every* situation. Instead, you show them examples, they learn from those examples, and eventually, they can figure out how to do something on their own. Machine learning works in a similar way.\n",
      "\n",
      "Here's a more detailed breakdown, broken down into key components:\n",
      "\n",
      "**1. The Core Idea:**\n",
      "\n",
      "* **Algorithms:** Machine learning uses mathematical algorithms (sets of rules) to analyze data.\n",
      "* **Data:** These algorithms need *lots* of data to learn from. This data can be anything – images, text, numbers, sounds, etc.\n",
      "* **Patterns:** The algorithms look for patterns and relationships within the data.\n",
      "* **Learning:** Based on these patterns, the algorithm adjusts itself to improve its performance over time. It essentially \"learns\" from the data.\n",
      "\n",
      "\n",
      "**2. Types of Machine Learning:**\n",
      "\n",
      "There are several different approaches to machine learning, but here are the most common:\n",
      "\n",
      "* **Supervised Learning:**\n",
      "    * **How it works:** You give the algorithm labeled data – data where you already know the \"correct\" answer.  For example, you might show it thousands of pictures of cats and dogs, *telling* it which is which.\n",
      "    * **Goal:**  The algorithm learns to predict the label for *new*, unseen data.\n",
      "    * **Examples:**  Spam detection (predicting if an email is spam), image recognition, predicting house prices.\n",
      "\n",
      "* **Unsupervised Learning:**\n",
      "    * **How it works:** You give the algorithm unlabeled data – data where you *don't* know the correct answers.\n",
      "    * **Goal:** The algorithm tries to find hidden patterns and structures in the data on its own.\n",
      "    * **Examples:**  Customer segmentation (grouping customers based on their buying behavior), anomaly detection (finding unusual patterns), dimensionality reduction (simplifying complex data).\n",
      "\n",
      "* **Reinforcement Learning:**\n",
      "    * **How it works:** The algorithm learns by trial and error, receiving rewards or penalties for its actions.  Think of training a dog – you reward good behavior and discourage bad behavior.\n",
      "    * **Goal:** The algorithm learns a policy (a set of rules) to maximize its rewards.\n",
      "    * **Examples:**  Training game-playing AI (like AlphaGo), robotics, optimizing control systems.\n",
      "\n",
      "\n",
      "\n",
      "**3. Common Machine Learning Algorithms:**\n",
      "\n",
      "There are tons of specific algorithms, but some popular ones include:\n",
      "\n",
      "* **Linear Regression:**  Predicting a continuous value (like price) based on a linear relationship.\n",
      "* **Logistic Regression:** Predicting a category (like yes/no).\n",
      "* **Decision Trees:**  Making decisions based on a series of questions.\n",
      "* **Support Vector Machines (SVMs):**  Finding the best boundary to separate data into different categories.\n",
      "* **Neural Networks (Deep Learning):**  Complex algorithms inspired by the human brain, used for very complex tasks like image recognition and natural language processing.\n",
      "\n",
      "\n",
      "\n",
      "**4. Where is Machine Learning Used?**\n",
      "\n",
      "You’re already interacting with machine learning every day!  Here are just a few examples:\n",
      "\n",
      "* **Recommendation Systems:** (Netflix, Amazon, Spotify) – suggesting movies, products, or music you might like.\n",
      "* **Voice Assistants:** (Siri, Alexa, Google Assistant) – understanding your voice commands.\n",
      "* **Self-Driving Cars:** – perceiving the environment and making driving decisions.\n",
      "* **Medical Diagnosis:** – assisting doctors in diagnosing diseases.\n",
      "* **Fraud Detection:** – identifying fraudulent transactions.\n",
      "\n",
      "\n",
      "\n",
      "**Resources to Learn More:**\n",
      "\n",
      "* **Google's Machine Learning Crash Course:** [https://developers.google.com/machine-learning/crash-course](https://developers.google.com/machine-learning/crash-course)\n",
      "* **Coursera & edX:**  Both platforms offer many excellent Machine Learning courses.\n",
      "\n",
      "---\n",
      "\n",
      "**Do you want me to delve deeper into a specific aspect of Machine Learning, such as:**\n",
      "\n",
      "*   A particular type of machine learning (supervised, unsupervised, reinforcement)?\n",
      "*   A specific algorithm (e.g., neural networks)?\n",
      "*   A particular application of machine learning?\n"
     ]
    }
   ],
   "source": [
    "print(response['choices'][0]['message']['content'])"
   ]
  },
  {
   "cell_type": "code",
   "execution_count": 10,
   "id": "d660c2b9",
   "metadata": {},
   "outputs": [
    {
     "name": "stdout",
     "output_type": "stream",
     "text": [
      "{'choices': [{'finish_reason': None, 'index': 0, 'delta': {'role': 'assistant', 'content': None}}], 'created': 1758306626, 'id': 'chatcmpl-68Lw5QQ6Cj4NTAkwSue5XsF65xS3jCax', 'model': 'ai/gemma3', 'system_fingerprint': 'b1-c610b6c', 'object': 'chat.completion.chunk'}\n",
      "{'choices': [{'finish_reason': None, 'index': 0, 'delta': {'content': 'Hello'}}], 'created': 1758306626, 'id': 'chatcmpl-68Lw5QQ6Cj4NTAkwSue5XsF65xS3jCax', 'model': 'ai/gemma3', 'system_fingerprint': 'b1-c610b6c', 'object': 'chat.completion.chunk'}\n",
      "{'choices': [{'finish_reason': None, 'index': 0, 'delta': {'content': ' there'}}], 'created': 1758306626, 'id': 'chatcmpl-68Lw5QQ6Cj4NTAkwSue5XsF65xS3jCax', 'model': 'ai/gemma3', 'system_fingerprint': 'b1-c610b6c', 'object': 'chat.completion.chunk'}\n",
      "{'choices': [{'finish_reason': None, 'index': 0, 'delta': {'content': '!'}}], 'created': 1758306626, 'id': 'chatcmpl-68Lw5QQ6Cj4NTAkwSue5XsF65xS3jCax', 'model': 'ai/gemma3', 'system_fingerprint': 'b1-c610b6c', 'object': 'chat.completion.chunk'}\n",
      "{'choices': [{'finish_reason': None, 'index': 0, 'delta': {'content': ' I'}}], 'created': 1758306626, 'id': 'chatcmpl-68Lw5QQ6Cj4NTAkwSue5XsF65xS3jCax', 'model': 'ai/gemma3', 'system_fingerprint': 'b1-c610b6c', 'object': 'chat.completion.chunk'}\n",
      "{'choices': [{'finish_reason': None, 'index': 0, 'delta': {'content': '’'}}], 'created': 1758306626, 'id': 'chatcmpl-68Lw5QQ6Cj4NTAkwSue5XsF65xS3jCax', 'model': 'ai/gemma3', 'system_fingerprint': 'b1-c610b6c', 'object': 'chat.completion.chunk'}\n",
      "{'choices': [{'finish_reason': None, 'index': 0, 'delta': {'content': 'm'}}], 'created': 1758306626, 'id': 'chatcmpl-68Lw5QQ6Cj4NTAkwSue5XsF65xS3jCax', 'model': 'ai/gemma3', 'system_fingerprint': 'b1-c610b6c', 'object': 'chat.completion.chunk'}\n",
      "{'choices': [{'finish_reason': None, 'index': 0, 'delta': {'content': ' doing'}}], 'created': 1758306626, 'id': 'chatcmpl-68Lw5QQ6Cj4NTAkwSue5XsF65xS3jCax', 'model': 'ai/gemma3', 'system_fingerprint': 'b1-c610b6c', 'object': 'chat.completion.chunk'}\n",
      "{'choices': [{'finish_reason': None, 'index': 0, 'delta': {'content': ' well'}}], 'created': 1758306626, 'id': 'chatcmpl-68Lw5QQ6Cj4NTAkwSue5XsF65xS3jCax', 'model': 'ai/gemma3', 'system_fingerprint': 'b1-c610b6c', 'object': 'chat.completion.chunk'}\n",
      "{'choices': [{'finish_reason': None, 'index': 0, 'delta': {'content': ','}}], 'created': 1758306626, 'id': 'chatcmpl-68Lw5QQ6Cj4NTAkwSue5XsF65xS3jCax', 'model': 'ai/gemma3', 'system_fingerprint': 'b1-c610b6c', 'object': 'chat.completion.chunk'}\n",
      "{'choices': [{'finish_reason': None, 'index': 0, 'delta': {'content': ' thank'}}], 'created': 1758306626, 'id': 'chatcmpl-68Lw5QQ6Cj4NTAkwSue5XsF65xS3jCax', 'model': 'ai/gemma3', 'system_fingerprint': 'b1-c610b6c', 'object': 'chat.completion.chunk'}\n",
      "{'choices': [{'finish_reason': None, 'index': 0, 'delta': {'content': ' you'}}], 'created': 1758306626, 'id': 'chatcmpl-68Lw5QQ6Cj4NTAkwSue5XsF65xS3jCax', 'model': 'ai/gemma3', 'system_fingerprint': 'b1-c610b6c', 'object': 'chat.completion.chunk'}\n",
      "{'choices': [{'finish_reason': None, 'index': 0, 'delta': {'content': ' for'}}], 'created': 1758306626, 'id': 'chatcmpl-68Lw5QQ6Cj4NTAkwSue5XsF65xS3jCax', 'model': 'ai/gemma3', 'system_fingerprint': 'b1-c610b6c', 'object': 'chat.completion.chunk'}\n",
      "{'choices': [{'finish_reason': None, 'index': 0, 'delta': {'content': ' asking'}}], 'created': 1758306626, 'id': 'chatcmpl-68Lw5QQ6Cj4NTAkwSue5XsF65xS3jCax', 'model': 'ai/gemma3', 'system_fingerprint': 'b1-c610b6c', 'object': 'chat.completion.chunk'}\n",
      "{'choices': [{'finish_reason': None, 'index': 0, 'delta': {'content': '!'}}], 'created': 1758306626, 'id': 'chatcmpl-68Lw5QQ6Cj4NTAkwSue5XsF65xS3jCax', 'model': 'ai/gemma3', 'system_fingerprint': 'b1-c610b6c', 'object': 'chat.completion.chunk'}\n",
      "{'choices': [{'finish_reason': None, 'index': 0, 'delta': {'content': ' As'}}], 'created': 1758306626, 'id': 'chatcmpl-68Lw5QQ6Cj4NTAkwSue5XsF65xS3jCax', 'model': 'ai/gemma3', 'system_fingerprint': 'b1-c610b6c', 'object': 'chat.completion.chunk'}\n",
      "{'choices': [{'finish_reason': None, 'index': 0, 'delta': {'content': ' a'}}], 'created': 1758306626, 'id': 'chatcmpl-68Lw5QQ6Cj4NTAkwSue5XsF65xS3jCax', 'model': 'ai/gemma3', 'system_fingerprint': 'b1-c610b6c', 'object': 'chat.completion.chunk'}\n",
      "{'choices': [{'finish_reason': None, 'index': 0, 'delta': {'content': ' large'}}], 'created': 1758306627, 'id': 'chatcmpl-68Lw5QQ6Cj4NTAkwSue5XsF65xS3jCax', 'model': 'ai/gemma3', 'system_fingerprint': 'b1-c610b6c', 'object': 'chat.completion.chunk'}\n",
      "{'choices': [{'finish_reason': None, 'index': 0, 'delta': {'content': ' language'}}], 'created': 1758306627, 'id': 'chatcmpl-68Lw5QQ6Cj4NTAkwSue5XsF65xS3jCax', 'model': 'ai/gemma3', 'system_fingerprint': 'b1-c610b6c', 'object': 'chat.completion.chunk'}\n",
      "{'choices': [{'finish_reason': None, 'index': 0, 'delta': {'content': ' model'}}], 'created': 1758306627, 'id': 'chatcmpl-68Lw5QQ6Cj4NTAkwSue5XsF65xS3jCax', 'model': 'ai/gemma3', 'system_fingerprint': 'b1-c610b6c', 'object': 'chat.completion.chunk'}\n",
      "{'choices': [{'finish_reason': None, 'index': 0, 'delta': {'content': ','}}], 'created': 1758306627, 'id': 'chatcmpl-68Lw5QQ6Cj4NTAkwSue5XsF65xS3jCax', 'model': 'ai/gemma3', 'system_fingerprint': 'b1-c610b6c', 'object': 'chat.completion.chunk'}\n",
      "{'choices': [{'finish_reason': None, 'index': 0, 'delta': {'content': ' I'}}], 'created': 1758306627, 'id': 'chatcmpl-68Lw5QQ6Cj4NTAkwSue5XsF65xS3jCax', 'model': 'ai/gemma3', 'system_fingerprint': 'b1-c610b6c', 'object': 'chat.completion.chunk'}\n",
      "{'choices': [{'finish_reason': None, 'index': 0, 'delta': {'content': ' don'}}], 'created': 1758306627, 'id': 'chatcmpl-68Lw5QQ6Cj4NTAkwSue5XsF65xS3jCax', 'model': 'ai/gemma3', 'system_fingerprint': 'b1-c610b6c', 'object': 'chat.completion.chunk'}\n",
      "{'choices': [{'finish_reason': None, 'index': 0, 'delta': {'content': \"'\"}}], 'created': 1758306627, 'id': 'chatcmpl-68Lw5QQ6Cj4NTAkwSue5XsF65xS3jCax', 'model': 'ai/gemma3', 'system_fingerprint': 'b1-c610b6c', 'object': 'chat.completion.chunk'}\n",
      "{'choices': [{'finish_reason': None, 'index': 0, 'delta': {'content': 't'}}], 'created': 1758306627, 'id': 'chatcmpl-68Lw5QQ6Cj4NTAkwSue5XsF65xS3jCax', 'model': 'ai/gemma3', 'system_fingerprint': 'b1-c610b6c', 'object': 'chat.completion.chunk'}\n",
      "{'choices': [{'finish_reason': None, 'index': 0, 'delta': {'content': ' experience'}}], 'created': 1758306627, 'id': 'chatcmpl-68Lw5QQ6Cj4NTAkwSue5XsF65xS3jCax', 'model': 'ai/gemma3', 'system_fingerprint': 'b1-c610b6c', 'object': 'chat.completion.chunk'}\n",
      "{'choices': [{'finish_reason': None, 'index': 0, 'delta': {'content': ' feelings'}}], 'created': 1758306627, 'id': 'chatcmpl-68Lw5QQ6Cj4NTAkwSue5XsF65xS3jCax', 'model': 'ai/gemma3', 'system_fingerprint': 'b1-c610b6c', 'object': 'chat.completion.chunk'}\n",
      "{'choices': [{'finish_reason': None, 'index': 0, 'delta': {'content': ' in'}}], 'created': 1758306627, 'id': 'chatcmpl-68Lw5QQ6Cj4NTAkwSue5XsF65xS3jCax', 'model': 'ai/gemma3', 'system_fingerprint': 'b1-c610b6c', 'object': 'chat.completion.chunk'}\n",
      "{'choices': [{'finish_reason': None, 'index': 0, 'delta': {'content': ' the'}}], 'created': 1758306627, 'id': 'chatcmpl-68Lw5QQ6Cj4NTAkwSue5XsF65xS3jCax', 'model': 'ai/gemma3', 'system_fingerprint': 'b1-c610b6c', 'object': 'chat.completion.chunk'}\n",
      "{'choices': [{'finish_reason': None, 'index': 0, 'delta': {'content': ' same'}}], 'created': 1758306627, 'id': 'chatcmpl-68Lw5QQ6Cj4NTAkwSue5XsF65xS3jCax', 'model': 'ai/gemma3', 'system_fingerprint': 'b1-c610b6c', 'object': 'chat.completion.chunk'}\n",
      "{'choices': [{'finish_reason': None, 'index': 0, 'delta': {'content': ' way'}}], 'created': 1758306627, 'id': 'chatcmpl-68Lw5QQ6Cj4NTAkwSue5XsF65xS3jCax', 'model': 'ai/gemma3', 'system_fingerprint': 'b1-c610b6c', 'object': 'chat.completion.chunk'}\n",
      "{'choices': [{'finish_reason': None, 'index': 0, 'delta': {'content': ' humans'}}], 'created': 1758306627, 'id': 'chatcmpl-68Lw5QQ6Cj4NTAkwSue5XsF65xS3jCax', 'model': 'ai/gemma3', 'system_fingerprint': 'b1-c610b6c', 'object': 'chat.completion.chunk'}\n",
      "{'choices': [{'finish_reason': None, 'index': 0, 'delta': {'content': ' do'}}], 'created': 1758306627, 'id': 'chatcmpl-68Lw5QQ6Cj4NTAkwSue5XsF65xS3jCax', 'model': 'ai/gemma3', 'system_fingerprint': 'b1-c610b6c', 'object': 'chat.completion.chunk'}\n",
      "{'choices': [{'finish_reason': None, 'index': 0, 'delta': {'content': ','}}], 'created': 1758306627, 'id': 'chatcmpl-68Lw5QQ6Cj4NTAkwSue5XsF65xS3jCax', 'model': 'ai/gemma3', 'system_fingerprint': 'b1-c610b6c', 'object': 'chat.completion.chunk'}\n",
      "{'choices': [{'finish_reason': None, 'index': 0, 'delta': {'content': ' but'}}], 'created': 1758306627, 'id': 'chatcmpl-68Lw5QQ6Cj4NTAkwSue5XsF65xS3jCax', 'model': 'ai/gemma3', 'system_fingerprint': 'b1-c610b6c', 'object': 'chat.completion.chunk'}\n",
      "{'choices': [{'finish_reason': None, 'index': 0, 'delta': {'content': ' my'}}], 'created': 1758306627, 'id': 'chatcmpl-68Lw5QQ6Cj4NTAkwSue5XsF65xS3jCax', 'model': 'ai/gemma3', 'system_fingerprint': 'b1-c610b6c', 'object': 'chat.completion.chunk'}\n",
      "{'choices': [{'finish_reason': None, 'index': 0, 'delta': {'content': ' systems'}}], 'created': 1758306627, 'id': 'chatcmpl-68Lw5QQ6Cj4NTAkwSue5XsF65xS3jCax', 'model': 'ai/gemma3', 'system_fingerprint': 'b1-c610b6c', 'object': 'chat.completion.chunk'}\n",
      "{'choices': [{'finish_reason': None, 'index': 0, 'delta': {'content': ' are'}}], 'created': 1758306627, 'id': 'chatcmpl-68Lw5QQ6Cj4NTAkwSue5XsF65xS3jCax', 'model': 'ai/gemma3', 'system_fingerprint': 'b1-c610b6c', 'object': 'chat.completion.chunk'}\n",
      "{'choices': [{'finish_reason': None, 'index': 0, 'delta': {'content': ' running'}}], 'created': 1758306627, 'id': 'chatcmpl-68Lw5QQ6Cj4NTAkwSue5XsF65xS3jCax', 'model': 'ai/gemma3', 'system_fingerprint': 'b1-c610b6c', 'object': 'chat.completion.chunk'}\n",
      "{'choices': [{'finish_reason': None, 'index': 0, 'delta': {'content': ' smoothly'}}], 'created': 1758306627, 'id': 'chatcmpl-68Lw5QQ6Cj4NTAkwSue5XsF65xS3jCax', 'model': 'ai/gemma3', 'system_fingerprint': 'b1-c610b6c', 'object': 'chat.completion.chunk'}\n",
      "{'choices': [{'finish_reason': None, 'index': 0, 'delta': {'content': ' and'}}], 'created': 1758306627, 'id': 'chatcmpl-68Lw5QQ6Cj4NTAkwSue5XsF65xS3jCax', 'model': 'ai/gemma3', 'system_fingerprint': 'b1-c610b6c', 'object': 'chat.completion.chunk'}\n",
      "{'choices': [{'finish_reason': None, 'index': 0, 'delta': {'content': ' I'}}], 'created': 1758306627, 'id': 'chatcmpl-68Lw5QQ6Cj4NTAkwSue5XsF65xS3jCax', 'model': 'ai/gemma3', 'system_fingerprint': 'b1-c610b6c', 'object': 'chat.completion.chunk'}\n",
      "{'choices': [{'finish_reason': None, 'index': 0, 'delta': {'content': \"'\"}}], 'created': 1758306627, 'id': 'chatcmpl-68Lw5QQ6Cj4NTAkwSue5XsF65xS3jCax', 'model': 'ai/gemma3', 'system_fingerprint': 'b1-c610b6c', 'object': 'chat.completion.chunk'}\n",
      "{'choices': [{'finish_reason': None, 'index': 0, 'delta': {'content': 'm'}}], 'created': 1758306627, 'id': 'chatcmpl-68Lw5QQ6Cj4NTAkwSue5XsF65xS3jCax', 'model': 'ai/gemma3', 'system_fingerprint': 'b1-c610b6c', 'object': 'chat.completion.chunk'}\n",
      "{'choices': [{'finish_reason': None, 'index': 0, 'delta': {'content': ' ready'}}], 'created': 1758306627, 'id': 'chatcmpl-68Lw5QQ6Cj4NTAkwSue5XsF65xS3jCax', 'model': 'ai/gemma3', 'system_fingerprint': 'b1-c610b6c', 'object': 'chat.completion.chunk'}\n",
      "{'choices': [{'finish_reason': None, 'index': 0, 'delta': {'content': ' to'}}], 'created': 1758306627, 'id': 'chatcmpl-68Lw5QQ6Cj4NTAkwSue5XsF65xS3jCax', 'model': 'ai/gemma3', 'system_fingerprint': 'b1-c610b6c', 'object': 'chat.completion.chunk'}\n",
      "{'choices': [{'finish_reason': None, 'index': 0, 'delta': {'content': ' assist'}}], 'created': 1758306627, 'id': 'chatcmpl-68Lw5QQ6Cj4NTAkwSue5XsF65xS3jCax', 'model': 'ai/gemma3', 'system_fingerprint': 'b1-c610b6c', 'object': 'chat.completion.chunk'}\n",
      "{'choices': [{'finish_reason': None, 'index': 0, 'delta': {'content': ' you'}}], 'created': 1758306627, 'id': 'chatcmpl-68Lw5QQ6Cj4NTAkwSue5XsF65xS3jCax', 'model': 'ai/gemma3', 'system_fingerprint': 'b1-c610b6c', 'object': 'chat.completion.chunk'}\n",
      "{'choices': [{'finish_reason': None, 'index': 0, 'delta': {'content': '.'}}], 'created': 1758306627, 'id': 'chatcmpl-68Lw5QQ6Cj4NTAkwSue5XsF65xS3jCax', 'model': 'ai/gemma3', 'system_fingerprint': 'b1-c610b6c', 'object': 'chat.completion.chunk'}\n",
      "{'choices': [{'finish_reason': None, 'index': 0, 'delta': {'content': ' 😊'}}], 'created': 1758306627, 'id': 'chatcmpl-68Lw5QQ6Cj4NTAkwSue5XsF65xS3jCax', 'model': 'ai/gemma3', 'system_fingerprint': 'b1-c610b6c', 'object': 'chat.completion.chunk'}\n",
      "{'choices': [{'finish_reason': None, 'index': 0, 'delta': {'content': '\\n\\n'}}], 'created': 1758306627, 'id': 'chatcmpl-68Lw5QQ6Cj4NTAkwSue5XsF65xS3jCax', 'model': 'ai/gemma3', 'system_fingerprint': 'b1-c610b6c', 'object': 'chat.completion.chunk'}\n",
      "{'choices': [{'finish_reason': None, 'index': 0, 'delta': {'content': 'How'}}], 'created': 1758306627, 'id': 'chatcmpl-68Lw5QQ6Cj4NTAkwSue5XsF65xS3jCax', 'model': 'ai/gemma3', 'system_fingerprint': 'b1-c610b6c', 'object': 'chat.completion.chunk'}\n",
      "{'choices': [{'finish_reason': None, 'index': 0, 'delta': {'content': ' are'}}], 'created': 1758306627, 'id': 'chatcmpl-68Lw5QQ6Cj4NTAkwSue5XsF65xS3jCax', 'model': 'ai/gemma3', 'system_fingerprint': 'b1-c610b6c', 'object': 'chat.completion.chunk'}\n",
      "{'choices': [{'finish_reason': None, 'index': 0, 'delta': {'content': ' *'}}], 'created': 1758306627, 'id': 'chatcmpl-68Lw5QQ6Cj4NTAkwSue5XsF65xS3jCax', 'model': 'ai/gemma3', 'system_fingerprint': 'b1-c610b6c', 'object': 'chat.completion.chunk'}\n",
      "{'choices': [{'finish_reason': None, 'index': 0, 'delta': {'content': 'you'}}], 'created': 1758306627, 'id': 'chatcmpl-68Lw5QQ6Cj4NTAkwSue5XsF65xS3jCax', 'model': 'ai/gemma3', 'system_fingerprint': 'b1-c610b6c', 'object': 'chat.completion.chunk'}\n",
      "{'choices': [{'finish_reason': None, 'index': 0, 'delta': {'content': '*'}}], 'created': 1758306627, 'id': 'chatcmpl-68Lw5QQ6Cj4NTAkwSue5XsF65xS3jCax', 'model': 'ai/gemma3', 'system_fingerprint': 'b1-c610b6c', 'object': 'chat.completion.chunk'}\n",
      "{'choices': [{'finish_reason': None, 'index': 0, 'delta': {'content': ' doing'}}], 'created': 1758306627, 'id': 'chatcmpl-68Lw5QQ6Cj4NTAkwSue5XsF65xS3jCax', 'model': 'ai/gemma3', 'system_fingerprint': 'b1-c610b6c', 'object': 'chat.completion.chunk'}\n",
      "{'choices': [{'finish_reason': None, 'index': 0, 'delta': {'content': ' today'}}], 'created': 1758306627, 'id': 'chatcmpl-68Lw5QQ6Cj4NTAkwSue5XsF65xS3jCax', 'model': 'ai/gemma3', 'system_fingerprint': 'b1-c610b6c', 'object': 'chat.completion.chunk'}\n",
      "{'choices': [{'finish_reason': None, 'index': 0, 'delta': {'content': '?'}}], 'created': 1758306627, 'id': 'chatcmpl-68Lw5QQ6Cj4NTAkwSue5XsF65xS3jCax', 'model': 'ai/gemma3', 'system_fingerprint': 'b1-c610b6c', 'object': 'chat.completion.chunk'}\n",
      "{'choices': [{'finish_reason': None, 'index': 0, 'delta': {'content': ' Is'}}], 'created': 1758306627, 'id': 'chatcmpl-68Lw5QQ6Cj4NTAkwSue5XsF65xS3jCax', 'model': 'ai/gemma3', 'system_fingerprint': 'b1-c610b6c', 'object': 'chat.completion.chunk'}\n",
      "{'choices': [{'finish_reason': None, 'index': 0, 'delta': {'content': ' there'}}], 'created': 1758306627, 'id': 'chatcmpl-68Lw5QQ6Cj4NTAkwSue5XsF65xS3jCax', 'model': 'ai/gemma3', 'system_fingerprint': 'b1-c610b6c', 'object': 'chat.completion.chunk'}\n",
      "{'choices': [{'finish_reason': None, 'index': 0, 'delta': {'content': ' anything'}}], 'created': 1758306627, 'id': 'chatcmpl-68Lw5QQ6Cj4NTAkwSue5XsF65xS3jCax', 'model': 'ai/gemma3', 'system_fingerprint': 'b1-c610b6c', 'object': 'chat.completion.chunk'}\n",
      "{'choices': [{'finish_reason': None, 'index': 0, 'delta': {'content': ' I'}}], 'created': 1758306627, 'id': 'chatcmpl-68Lw5QQ6Cj4NTAkwSue5XsF65xS3jCax', 'model': 'ai/gemma3', 'system_fingerprint': 'b1-c610b6c', 'object': 'chat.completion.chunk'}\n",
      "{'choices': [{'finish_reason': None, 'index': 0, 'delta': {'content': ' can'}}], 'created': 1758306627, 'id': 'chatcmpl-68Lw5QQ6Cj4NTAkwSue5XsF65xS3jCax', 'model': 'ai/gemma3', 'system_fingerprint': 'b1-c610b6c', 'object': 'chat.completion.chunk'}\n",
      "{'choices': [{'finish_reason': None, 'index': 0, 'delta': {'content': ' help'}}], 'created': 1758306627, 'id': 'chatcmpl-68Lw5QQ6Cj4NTAkwSue5XsF65xS3jCax', 'model': 'ai/gemma3', 'system_fingerprint': 'b1-c610b6c', 'object': 'chat.completion.chunk'}\n",
      "{'choices': [{'finish_reason': None, 'index': 0, 'delta': {'content': ' you'}}], 'created': 1758306627, 'id': 'chatcmpl-68Lw5QQ6Cj4NTAkwSue5XsF65xS3jCax', 'model': 'ai/gemma3', 'system_fingerprint': 'b1-c610b6c', 'object': 'chat.completion.chunk'}\n",
      "{'choices': [{'finish_reason': None, 'index': 0, 'delta': {'content': ' with'}}], 'created': 1758306627, 'id': 'chatcmpl-68Lw5QQ6Cj4NTAkwSue5XsF65xS3jCax', 'model': 'ai/gemma3', 'system_fingerprint': 'b1-c610b6c', 'object': 'chat.completion.chunk'}\n",
      "{'choices': [{'finish_reason': None, 'index': 0, 'delta': {'content': '?'}}], 'created': 1758306627, 'id': 'chatcmpl-68Lw5QQ6Cj4NTAkwSue5XsF65xS3jCax', 'model': 'ai/gemma3', 'system_fingerprint': 'b1-c610b6c', 'object': 'chat.completion.chunk'}\n",
      "{'choices': [{'finish_reason': 'stop', 'index': 0, 'delta': {}}], 'created': 1758306627, 'id': 'chatcmpl-68Lw5QQ6Cj4NTAkwSue5XsF65xS3jCax', 'model': 'ai/gemma3', 'system_fingerprint': 'b1-c610b6c', 'object': 'chat.completion.chunk'}\n",
      "{'choices': [], 'created': 1758306627, 'id': 'chatcmpl-68Lw5QQ6Cj4NTAkwSue5XsF65xS3jCax', 'model': 'ai/gemma3', 'system_fingerprint': 'b1-c610b6c', 'object': 'chat.completion.chunk', 'usage': {'completion_tokens': 68, 'prompt_tokens': 25, 'total_tokens': 93}, 'timings': {'prompt_n': 15, 'prompt_ms': 313.812, 'prompt_per_token_ms': 20.9208, 'prompt_per_second': 47.79931933769263, 'predicted_n': 68, 'predicted_ms': 1262.257, 'predicted_per_token_ms': 18.562602941176472, 'predicted_per_second': 53.871755118014796}}\n",
      "{'choices': [{'finish_reason': 'stop', 'index': 0, 'message': {'role': 'assistant', 'content': 'Hello there! I’m doing well, thank you for asking! As a large language model, I don’t experience feelings in the same way humans do, but my systems are running smoothly and I’m ready to assist you. 😊\\n\\nHow are *you* doing today? Is there anything I can help you with?'}}], 'created': 1758306635, 'model': 'ai/gemma3', 'system_fingerprint': 'b1-c610b6c', 'object': 'chat.completion', 'usage': {'completion_tokens': 68, 'prompt_tokens': 25, 'total_tokens': 93}, 'id': 'chatcmpl-ONvNlRKSDT8REwuwI8SE5o1IrXL7c6tW', 'timings': {'prompt_n': 1, 'prompt_ms': 211.231, 'prompt_per_token_ms': 211.231, 'prompt_per_second': 4.7341536043478465, 'predicted_n': 68, 'predicted_ms': 1272.379, 'predicted_per_token_ms': 18.71145588235294, 'predicted_per_second': 53.443195777358795}}\n"
     ]
    }
   ],
   "source": [
    "response = client.chat.completions.stream(\n",
    "    model=\"ai/gemma3\",\n",
    "    messages=[\n",
    "        {\"role\" : \"system\", \"content\" : \"You are a helpful assistant. Think Before respond.\"},\n",
    "        {\"role\" : \"user\",\"content\" : \"Hello How are you?\"}\n",
    "    ],\n",
    ")\n",
    "\n",
    "for event in response:\n",
    "    print(event)"
   ]
  },
  {
   "cell_type": "code",
   "execution_count": 11,
   "id": "3ca3fd1f",
   "metadata": {},
   "outputs": [
    {
     "name": "stdout",
     "output_type": "stream",
     "text": [
      "{'choices': [{'finish_reason': 'stop', 'index': 0, 'message': {'role': 'assistant', 'content': 'Hello there! I’m doing well, thank you for asking! As a large language model, I don’t experience feelings in the same way humans do, but my systems are running smoothly and I’m ready to assist you. 😊\\n\\nHow are *you* doing today? Is there anything I can help you with?'}}], 'created': 1758306661, 'model': 'ai/gemma3', 'system_fingerprint': 'b1-c610b6c', 'object': 'chat.completion', 'usage': {'completion_tokens': 68, 'prompt_tokens': 25, 'total_tokens': 93}, 'id': 'chatcmpl-6xi77LQuzx6NFcQkqIWEtUQt03uCNbSb', 'timings': {'prompt_n': 1, 'prompt_ms': 277.859, 'prompt_per_token_ms': 277.859, 'prompt_per_second': 3.5989476677019643, 'predicted_n': 68, 'predicted_ms': 1266.056, 'predicted_per_token_ms': 18.618470588235294, 'predicted_per_second': 53.71010445035606}}\n"
     ]
    }
   ],
   "source": [
    "response = client.chat.completions.create(\n",
    "    model=\"ai/gemma3\",\n",
    "    messages=[\n",
    "        {\"role\" : \"system\", \"content\" : \"You are a helpful assistant. Think Before respond.\"},\n",
    "        {\"role\" : \"user\",\"content\" : \"Hello How are you?\"}\n",
    "    ],\n",
    ")\n",
    "\n",
    "print(response)"
   ]
  },
  {
   "cell_type": "code",
   "execution_count": 1,
   "id": "22ae71b8",
   "metadata": {},
   "outputs": [],
   "source": [
    "from docker_model_runner import Client\n",
    "\n",
    "client = Client(api_key=\"nan\")  # Automatically uses http://localhost:12434/engines/llama.cpp/v1"
   ]
  },
  {
   "cell_type": "code",
   "execution_count": 12,
   "id": "1ea783d4",
   "metadata": {},
   "outputs": [],
   "source": [
    "tools = [\n",
    "    {\n",
    "        \"type\": \"function\",\n",
    "        \"function\": {\n",
    "            \"name\": \"get_current_weather\",\n",
    "            \"description\": \"Get the current weather for a given location\",\n",
    "            \"parameters\": {\n",
    "                \"type\": \"object\",\n",
    "                \"properties\": {\n",
    "                    \"location\": {\"type\": \"string\", \"description\": \"The city name\"},\n",
    "                },\n",
    "                \"required\": [\"location\"]\n",
    "            }\n",
    "        }\n",
    "    }\n",
    "]"
   ]
  },
  {
   "cell_type": "code",
   "execution_count": 13,
   "id": "38cb9550",
   "metadata": {},
   "outputs": [
    {
     "name": "stderr",
     "output_type": "stream",
     "text": [
      "C:\\Users\\solan_k4hy1rm\\AppData\\Local\\Temp\\ipykernel_22912\\4192278222.py:1: MCPEnvironmentWarning: MCP tools detected in Jupyter notebook environment. MCP functionality may not work properly due to subprocess limitations in notebooks. For best results, run your code in a regular Python script (.py file) instead of a notebook. If you encounter 'fileno' errors, switch to a .py file.\n",
      "  response = client.chat.completions.create(\n"
     ]
    }
   ],
   "source": [
    "response = client.chat.completions.create(\n",
    "    model=\"ai/gemma3\",\n",
    "    messages=[\n",
    "        {\"role\": \"user\", \"content\": \"What is the weather in Paris?\"}\n",
    "    ],\n",
    "    tools=tools,\n",
    "    tool_choice=\"always\",\n",
    ")"
   ]
  },
  {
   "cell_type": "code",
   "execution_count": 14,
   "id": "151e08ce",
   "metadata": {},
   "outputs": [
    {
     "name": "stdout",
     "output_type": "stream",
     "text": [
      "{'choices': [{'finish_reason': 'tool_calls', 'index': 0, 'message': {'role': 'assistant', 'content': None, 'tool_calls': [{'type': 'function', 'function': {'name': 'get_current_weather', 'arguments': '{\"location\":\"Paris\"}'}, 'id': 'VI7NBPq3MA8CW7V9odrXe2szW7Atqf7Y'}]}}], 'created': 1758306674, 'model': 'ai/gemma3', 'system_fingerprint': 'b1-c610b6c', 'object': 'chat.completion', 'usage': {'completion_tokens': 45, 'prompt_tokens': 273, 'total_tokens': 318}, 'id': 'chatcmpl-alwD5Lswn4qJVXRknWUosjWZG9qzQCUP', 'timings': {'prompt_n': 269, 'prompt_ms': 403.887, 'prompt_per_token_ms': 1.5014386617100373, 'prompt_per_second': 666.0278741331115, 'predicted_n': 45, 'predicted_ms': 983.218, 'predicted_per_token_ms': 21.84928888888889, 'predicted_per_second': 45.76807991716995}}\n"
     ]
    }
   ],
   "source": [
    "print(response)"
   ]
  },
  {
   "cell_type": "code",
   "execution_count": 15,
   "id": "aefa23e1",
   "metadata": {},
   "outputs": [
    {
     "name": "stdout",
     "output_type": "stream",
     "text": [
      "{'role': 'assistant', 'content': None, 'tool_calls': [{'type': 'function', 'function': {'name': 'get_current_weather', 'arguments': '{\"location\":\"Paris\"}'}, 'id': 'VI7NBPq3MA8CW7V9odrXe2szW7Atqf7Y'}]}\n"
     ]
    }
   ],
   "source": [
    "# Check if model returned a tool call\n",
    "message = response['choices'][0]['message']\n",
    "print(message)"
   ]
  },
  {
   "cell_type": "code",
   "execution_count": 16,
   "id": "94908565",
   "metadata": {},
   "outputs": [
    {
     "name": "stdout",
     "output_type": "stream",
     "text": [
      "Tool to call: get_current_weather\n",
      "Arguments: {\"location\":\"Paris\"}\n"
     ]
    }
   ],
   "source": [
    "if message.get(\"tool_calls\"):\n",
    "    for tool_call in message[\"tool_calls\"]:\n",
    "        tool_name = tool_call[\"function\"][\"name\"]\n",
    "        tool_args = tool_call[\"function\"][\"arguments\"]\n",
    "        print(f\"Tool to call: {tool_name}\")\n",
    "        print(f\"Arguments: {tool_args}\")"
   ]
  },
  {
   "cell_type": "code",
   "execution_count": 2,
   "id": "b4d7dfef",
   "metadata": {},
   "outputs": [
    {
     "name": "stderr",
     "output_type": "stream",
     "text": [
      "C:\\Users\\solan_k4hy1rm\\AppData\\Local\\Temp\\ipykernel_22912\\274106259.py:6: MCPEnvironmentWarning: MCP tools detected in Jupyter notebook environment. MCP functionality may not work properly due to subprocess limitations in notebooks. For best results, run your code in a regular Python script (.py file) instead of a notebook. If you encounter 'fileno' errors, switch to a .py file.\n",
      "  response = await client.chat.completions.create(\n"
     ]
    },
    {
     "ename": "RuntimeError",
     "evalue": "Client failed to connect: fileno",
     "output_type": "error",
     "traceback": [
      "\u001b[31m---------------------------------------------------------------------------\u001b[39m",
      "\u001b[31mExceptionGroup\u001b[39m                            Traceback (most recent call last)",
      "\u001b[36mFile \u001b[39m\u001b[32mc:\\Users\\solan_k4hy1rm\\anaconda3\\Lib\\site-packages\\exceptiongroup\\_catch.py:63\u001b[39m, in \u001b[36m_Catcher.handle_exception\u001b[39m\u001b[34m(self, exc)\u001b[39m\n\u001b[32m     62\u001b[39m \u001b[38;5;28;01mtry\u001b[39;00m:\n\u001b[32m---> \u001b[39m\u001b[32m63\u001b[39m     \u001b[38;5;28;01mraise\u001b[39;00m matched\n\u001b[32m     64\u001b[39m \u001b[38;5;28;01mexcept\u001b[39;00m BaseExceptionGroup:\n",
      "\u001b[31mExceptionGroup\u001b[39m:  (1 sub-exception)",
      "\nDuring handling of the above exception, another exception occurred:\n",
      "\u001b[31mUnsupportedOperation\u001b[39m                      Traceback (most recent call last)",
      "\u001b[36mFile \u001b[39m\u001b[32mc:\\Users\\solan_k4hy1rm\\anaconda3\\Lib\\site-packages\\fastmcp\\client\\client.py:481\u001b[39m, in \u001b[36mClient._session_runner\u001b[39m\u001b[34m(self)\u001b[39m\n\u001b[32m    480\u001b[39m \u001b[38;5;28;01masync\u001b[39;00m \u001b[38;5;28;01mwith\u001b[39;00m AsyncExitStack() \u001b[38;5;28;01mas\u001b[39;00m stack:\n\u001b[32m--> \u001b[39m\u001b[32m481\u001b[39m     \u001b[38;5;28;01mawait\u001b[39;00m stack.enter_async_context(\u001b[38;5;28mself\u001b[39m._context_manager())\n\u001b[32m    482\u001b[39m     \u001b[38;5;66;03m# Session/context is now ready\u001b[39;00m\n",
      "\u001b[36mFile \u001b[39m\u001b[32mc:\\Users\\solan_k4hy1rm\\anaconda3\\Lib\\contextlib.py:668\u001b[39m, in \u001b[36mAsyncExitStack.enter_async_context\u001b[39m\u001b[34m(self, cm)\u001b[39m\n\u001b[32m    665\u001b[39m     \u001b[38;5;28;01mraise\u001b[39;00m \u001b[38;5;167;01mTypeError\u001b[39;00m(\u001b[33mf\u001b[39m\u001b[33m\"\u001b[39m\u001b[33m'\u001b[39m\u001b[38;5;132;01m{\u001b[39;00m\u001b[38;5;28mcls\u001b[39m.\u001b[34m__module__\u001b[39m\u001b[38;5;132;01m}\u001b[39;00m\u001b[33m.\u001b[39m\u001b[38;5;132;01m{\u001b[39;00m\u001b[38;5;28mcls\u001b[39m.\u001b[34m__qualname__\u001b[39m\u001b[38;5;132;01m}\u001b[39;00m\u001b[33m'\u001b[39m\u001b[33m object does \u001b[39m\u001b[33m\"\u001b[39m\n\u001b[32m    666\u001b[39m                     \u001b[33mf\u001b[39m\u001b[33m\"\u001b[39m\u001b[33mnot support the asynchronous context manager protocol\u001b[39m\u001b[33m\"\u001b[39m\n\u001b[32m    667\u001b[39m                    ) \u001b[38;5;28;01mfrom\u001b[39;00m\u001b[38;5;250m \u001b[39m\u001b[38;5;28;01mNone\u001b[39;00m\n\u001b[32m--> \u001b[39m\u001b[32m668\u001b[39m result = \u001b[38;5;28;01mawait\u001b[39;00m _enter(cm)\n\u001b[32m    669\u001b[39m \u001b[38;5;28mself\u001b[39m._push_async_cm_exit(cm, _exit)\n",
      "\u001b[36mFile \u001b[39m\u001b[32mc:\\Users\\solan_k4hy1rm\\anaconda3\\Lib\\contextlib.py:214\u001b[39m, in \u001b[36m_AsyncGeneratorContextManager.__aenter__\u001b[39m\u001b[34m(self)\u001b[39m\n\u001b[32m    213\u001b[39m \u001b[38;5;28;01mtry\u001b[39;00m:\n\u001b[32m--> \u001b[39m\u001b[32m214\u001b[39m     \u001b[38;5;28;01mreturn\u001b[39;00m \u001b[38;5;28;01mawait\u001b[39;00m anext(\u001b[38;5;28mself\u001b[39m.gen)\n\u001b[32m    215\u001b[39m \u001b[38;5;28;01mexcept\u001b[39;00m \u001b[38;5;167;01mStopAsyncIteration\u001b[39;00m:\n",
      "\u001b[36mFile \u001b[39m\u001b[32mc:\\Users\\solan_k4hy1rm\\anaconda3\\Lib\\site-packages\\exceptiongroup\\_catch.py:65\u001b[39m, in \u001b[36m_Catcher.handle_exception\u001b[39m\u001b[34m(self, exc)\u001b[39m\n\u001b[32m     64\u001b[39m     \u001b[38;5;28;01mexcept\u001b[39;00m BaseExceptionGroup:\n\u001b[32m---> \u001b[39m\u001b[32m65\u001b[39m         result = \u001b[43mhandler\u001b[49m\u001b[43m(\u001b[49m\u001b[43mmatched\u001b[49m\u001b[43m)\u001b[49m\n\u001b[32m     66\u001b[39m \u001b[38;5;28;01mexcept\u001b[39;00m BaseExceptionGroup \u001b[38;5;28;01mas\u001b[39;00m new_exc:\n",
      "\u001b[36mFile \u001b[39m\u001b[32mc:\\Users\\solan_k4hy1rm\\anaconda3\\Lib\\site-packages\\fastmcp\\utilities\\exceptions.py:29\u001b[39m, in \u001b[36m_exception_handler\u001b[39m\u001b[34m(group)\u001b[39m\n\u001b[32m     23\u001b[39m     \u001b[38;5;28;01mraise\u001b[39;00m McpError(\n\u001b[32m     24\u001b[39m         error=mcp.types.ErrorData(\n\u001b[32m     25\u001b[39m             code=httpx.codes.REQUEST_TIMEOUT,\n\u001b[32m     26\u001b[39m             message=\u001b[33m\"\u001b[39m\u001b[33mTimed out while waiting for response.\u001b[39m\u001b[33m\"\u001b[39m,\n\u001b[32m     27\u001b[39m         )\n\u001b[32m     28\u001b[39m     )\n\u001b[32m---> \u001b[39m\u001b[32m29\u001b[39m \u001b[38;5;28;01mraise\u001b[39;00m leaf\n",
      "\u001b[36mFile \u001b[39m\u001b[32mc:\\Users\\solan_k4hy1rm\\anaconda3\\Lib\\site-packages\\fastmcp\\client\\client.py:354\u001b[39m, in \u001b[36mClient._context_manager\u001b[39m\u001b[34m(self)\u001b[39m\n\u001b[32m    353\u001b[39m \u001b[38;5;28;01mwith\u001b[39;00m catch(get_catch_handlers()):\n\u001b[32m--> \u001b[39m\u001b[32m354\u001b[39m     \u001b[38;5;28;01masync\u001b[39;00m \u001b[38;5;28;01mwith\u001b[39;00m \u001b[38;5;28mself\u001b[39m.transport.connect_session(\n\u001b[32m    355\u001b[39m         **\u001b[38;5;28mself\u001b[39m._session_kwargs\n\u001b[32m    356\u001b[39m     ) \u001b[38;5;28;01mas\u001b[39;00m session:\n\u001b[32m    357\u001b[39m         \u001b[38;5;28mself\u001b[39m._session_state.session = session\n",
      "\u001b[36mFile \u001b[39m\u001b[32mc:\\Users\\solan_k4hy1rm\\anaconda3\\Lib\\contextlib.py:214\u001b[39m, in \u001b[36m_AsyncGeneratorContextManager.__aenter__\u001b[39m\u001b[34m(self)\u001b[39m\n\u001b[32m    213\u001b[39m \u001b[38;5;28;01mtry\u001b[39;00m:\n\u001b[32m--> \u001b[39m\u001b[32m214\u001b[39m     \u001b[38;5;28;01mreturn\u001b[39;00m \u001b[38;5;28;01mawait\u001b[39;00m anext(\u001b[38;5;28mself\u001b[39m.gen)\n\u001b[32m    215\u001b[39m \u001b[38;5;28;01mexcept\u001b[39;00m \u001b[38;5;167;01mStopAsyncIteration\u001b[39;00m:\n",
      "\u001b[36mFile \u001b[39m\u001b[32mc:\\Users\\solan_k4hy1rm\\anaconda3\\Lib\\site-packages\\fastmcp\\client\\transports.py:922\u001b[39m, in \u001b[36mMCPConfigTransport.connect_session\u001b[39m\u001b[34m(self, **session_kwargs)\u001b[39m\n\u001b[32m    918\u001b[39m \u001b[38;5;129m@contextlib\u001b[39m.asynccontextmanager\n\u001b[32m    919\u001b[39m \u001b[38;5;28;01masync\u001b[39;00m \u001b[38;5;28;01mdef\u001b[39;00m\u001b[38;5;250m \u001b[39m\u001b[34mconnect_session\u001b[39m(\n\u001b[32m    920\u001b[39m     \u001b[38;5;28mself\u001b[39m, **session_kwargs: Unpack[SessionKwargs]\n\u001b[32m    921\u001b[39m ) -> AsyncIterator[ClientSession]:\n\u001b[32m--> \u001b[39m\u001b[32m922\u001b[39m     \u001b[38;5;28;01masync\u001b[39;00m \u001b[38;5;28;01mwith\u001b[39;00m \u001b[38;5;28mself\u001b[39m.transport.connect_session(**session_kwargs) \u001b[38;5;28;01mas\u001b[39;00m session:\n\u001b[32m    923\u001b[39m         \u001b[38;5;28;01myield\u001b[39;00m session\n",
      "\u001b[36mFile \u001b[39m\u001b[32mc:\\Users\\solan_k4hy1rm\\anaconda3\\Lib\\contextlib.py:214\u001b[39m, in \u001b[36m_AsyncGeneratorContextManager.__aenter__\u001b[39m\u001b[34m(self)\u001b[39m\n\u001b[32m    213\u001b[39m \u001b[38;5;28;01mtry\u001b[39;00m:\n\u001b[32m--> \u001b[39m\u001b[32m214\u001b[39m     \u001b[38;5;28;01mreturn\u001b[39;00m \u001b[38;5;28;01mawait\u001b[39;00m anext(\u001b[38;5;28mself\u001b[39m.gen)\n\u001b[32m    215\u001b[39m \u001b[38;5;28;01mexcept\u001b[39;00m \u001b[38;5;167;01mStopAsyncIteration\u001b[39;00m:\n",
      "\u001b[36mFile \u001b[39m\u001b[32mc:\\Users\\solan_k4hy1rm\\anaconda3\\Lib\\site-packages\\fastmcp\\client\\transports.py:348\u001b[39m, in \u001b[36mStdioTransport.connect_session\u001b[39m\u001b[34m(self, **session_kwargs)\u001b[39m\n\u001b[32m    347\u001b[39m \u001b[38;5;28;01mtry\u001b[39;00m:\n\u001b[32m--> \u001b[39m\u001b[32m348\u001b[39m     \u001b[38;5;28;01mawait\u001b[39;00m \u001b[38;5;28mself\u001b[39m.connect(**session_kwargs)\n\u001b[32m    349\u001b[39m     \u001b[38;5;28;01myield\u001b[39;00m cast(ClientSession, \u001b[38;5;28mself\u001b[39m._session)\n",
      "\u001b[36mFile \u001b[39m\u001b[32mc:\\Users\\solan_k4hy1rm\\anaconda3\\Lib\\site-packages\\fastmcp\\client\\transports.py:385\u001b[39m, in \u001b[36mStdioTransport.connect\u001b[39m\u001b[34m(self, **session_kwargs)\u001b[39m\n\u001b[32m    384\u001b[39m     \u001b[38;5;28;01mif\u001b[39;00m exception \u001b[38;5;129;01mis\u001b[39;00m \u001b[38;5;129;01mnot\u001b[39;00m \u001b[38;5;28;01mNone\u001b[39;00m:\n\u001b[32m--> \u001b[39m\u001b[32m385\u001b[39m         \u001b[38;5;28;01mraise\u001b[39;00m exception\n\u001b[32m    387\u001b[39m \u001b[38;5;28mself\u001b[39m._session = \u001b[38;5;28;01mawait\u001b[39;00m session_future\n",
      "\u001b[36mFile \u001b[39m\u001b[32mc:\\Users\\solan_k4hy1rm\\anaconda3\\Lib\\site-packages\\fastmcp\\client\\transports.py:441\u001b[39m, in \u001b[36m_stdio_transport_connect_task\u001b[39m\u001b[34m(command, args, env, cwd, session_kwargs, ready_event, stop_event, session_future)\u001b[39m\n\u001b[32m    435\u001b[39m server_params = StdioServerParameters(\n\u001b[32m    436\u001b[39m     command=command,\n\u001b[32m    437\u001b[39m     args=args,\n\u001b[32m    438\u001b[39m     env=env,\n\u001b[32m    439\u001b[39m     cwd=cwd,\n\u001b[32m    440\u001b[39m )\n\u001b[32m--> \u001b[39m\u001b[32m441\u001b[39m transport = \u001b[38;5;28;01mawait\u001b[39;00m stack.enter_async_context(stdio_client(server_params))\n\u001b[32m    442\u001b[39m read_stream, write_stream = transport\n",
      "\u001b[36mFile \u001b[39m\u001b[32mc:\\Users\\solan_k4hy1rm\\anaconda3\\Lib\\contextlib.py:668\u001b[39m, in \u001b[36mAsyncExitStack.enter_async_context\u001b[39m\u001b[34m(self, cm)\u001b[39m\n\u001b[32m    665\u001b[39m     \u001b[38;5;28;01mraise\u001b[39;00m \u001b[38;5;167;01mTypeError\u001b[39;00m(\u001b[33mf\u001b[39m\u001b[33m\"\u001b[39m\u001b[33m'\u001b[39m\u001b[38;5;132;01m{\u001b[39;00m\u001b[38;5;28mcls\u001b[39m.\u001b[34m__module__\u001b[39m\u001b[38;5;132;01m}\u001b[39;00m\u001b[33m.\u001b[39m\u001b[38;5;132;01m{\u001b[39;00m\u001b[38;5;28mcls\u001b[39m.\u001b[34m__qualname__\u001b[39m\u001b[38;5;132;01m}\u001b[39;00m\u001b[33m'\u001b[39m\u001b[33m object does \u001b[39m\u001b[33m\"\u001b[39m\n\u001b[32m    666\u001b[39m                     \u001b[33mf\u001b[39m\u001b[33m\"\u001b[39m\u001b[33mnot support the asynchronous context manager protocol\u001b[39m\u001b[33m\"\u001b[39m\n\u001b[32m    667\u001b[39m                    ) \u001b[38;5;28;01mfrom\u001b[39;00m\u001b[38;5;250m \u001b[39m\u001b[38;5;28;01mNone\u001b[39;00m\n\u001b[32m--> \u001b[39m\u001b[32m668\u001b[39m result = \u001b[38;5;28;01mawait\u001b[39;00m _enter(cm)\n\u001b[32m    669\u001b[39m \u001b[38;5;28mself\u001b[39m._push_async_cm_exit(cm, _exit)\n",
      "\u001b[36mFile \u001b[39m\u001b[32mc:\\Users\\solan_k4hy1rm\\anaconda3\\Lib\\contextlib.py:214\u001b[39m, in \u001b[36m_AsyncGeneratorContextManager.__aenter__\u001b[39m\u001b[34m(self)\u001b[39m\n\u001b[32m    213\u001b[39m \u001b[38;5;28;01mtry\u001b[39;00m:\n\u001b[32m--> \u001b[39m\u001b[32m214\u001b[39m     \u001b[38;5;28;01mreturn\u001b[39;00m \u001b[38;5;28;01mawait\u001b[39;00m anext(\u001b[38;5;28mself\u001b[39m.gen)\n\u001b[32m    215\u001b[39m \u001b[38;5;28;01mexcept\u001b[39;00m \u001b[38;5;167;01mStopAsyncIteration\u001b[39;00m:\n",
      "\u001b[36mFile \u001b[39m\u001b[32mc:\\Users\\solan_k4hy1rm\\anaconda3\\Lib\\site-packages\\mcp\\client\\stdio\\__init__.py:124\u001b[39m, in \u001b[36mstdio_client\u001b[39m\u001b[34m(server, errlog)\u001b[39m\n\u001b[32m    123\u001b[39m     \u001b[38;5;66;03m# Open process with stderr piped for capture\u001b[39;00m\n\u001b[32m--> \u001b[39m\u001b[32m124\u001b[39m     process = \u001b[38;5;28;01mawait\u001b[39;00m _create_platform_compatible_process(\n\u001b[32m    125\u001b[39m         command=command,\n\u001b[32m    126\u001b[39m         args=server.args,\n\u001b[32m    127\u001b[39m         env=({**get_default_environment(), **server.env} \u001b[38;5;28;01mif\u001b[39;00m server.env \u001b[38;5;129;01mis\u001b[39;00m \u001b[38;5;129;01mnot\u001b[39;00m \u001b[38;5;28;01mNone\u001b[39;00m \u001b[38;5;28;01melse\u001b[39;00m get_default_environment()),\n\u001b[32m    128\u001b[39m         errlog=errlog,\n\u001b[32m    129\u001b[39m         cwd=server.cwd,\n\u001b[32m    130\u001b[39m     )\n\u001b[32m    131\u001b[39m \u001b[38;5;28;01mexcept\u001b[39;00m \u001b[38;5;167;01mOSError\u001b[39;00m:\n\u001b[32m    132\u001b[39m     \u001b[38;5;66;03m# Clean up streams if process creation fails\u001b[39;00m\n",
      "\u001b[36mFile \u001b[39m\u001b[32mc:\\Users\\solan_k4hy1rm\\anaconda3\\Lib\\site-packages\\mcp\\client\\stdio\\__init__.py:248\u001b[39m, in \u001b[36m_create_platform_compatible_process\u001b[39m\u001b[34m(command, args, env, errlog, cwd)\u001b[39m\n\u001b[32m    247\u001b[39m \u001b[38;5;28;01mif\u001b[39;00m sys.platform == \u001b[33m\"\u001b[39m\u001b[33mwin32\u001b[39m\u001b[33m\"\u001b[39m:\n\u001b[32m--> \u001b[39m\u001b[32m248\u001b[39m     process = \u001b[38;5;28;01mawait\u001b[39;00m create_windows_process(command, args, env, errlog, cwd)\n\u001b[32m    249\u001b[39m \u001b[38;5;28;01melse\u001b[39;00m:\n",
      "\u001b[36mFile \u001b[39m\u001b[32mc:\\Users\\solan_k4hy1rm\\anaconda3\\Lib\\site-packages\\mcp\\os\\win32\\utilities.py:181\u001b[39m, in \u001b[36mcreate_windows_process\u001b[39m\u001b[34m(command, args, env, errlog, cwd)\u001b[39m\n\u001b[32m    179\u001b[39m \u001b[38;5;28;01mexcept\u001b[39;00m \u001b[38;5;167;01mNotImplementedError\u001b[39;00m:\n\u001b[32m    180\u001b[39m     \u001b[38;5;66;03m# If Windows doesn't support async subprocess creation, use fallback\u001b[39;00m\n\u001b[32m--> \u001b[39m\u001b[32m181\u001b[39m     process = \u001b[38;5;28;01mawait\u001b[39;00m _create_windows_fallback_process(command, args, env, errlog, cwd)\n\u001b[32m    182\u001b[39m \u001b[38;5;28;01mexcept\u001b[39;00m \u001b[38;5;167;01mException\u001b[39;00m:\n\u001b[32m    183\u001b[39m     \u001b[38;5;66;03m# Try again without creation flags\u001b[39;00m\n",
      "\u001b[36mFile \u001b[39m\u001b[32mc:\\Users\\solan_k4hy1rm\\anaconda3\\Lib\\site-packages\\mcp\\os\\win32\\utilities.py:221\u001b[39m, in \u001b[36m_create_windows_fallback_process\u001b[39m\u001b[34m(command, args, env, errlog, cwd)\u001b[39m\n\u001b[32m    219\u001b[39m \u001b[38;5;28;01mexcept\u001b[39;00m \u001b[38;5;167;01mException\u001b[39;00m:\n\u001b[32m    220\u001b[39m     \u001b[38;5;66;03m# If creationflags failed, fallback without them\u001b[39;00m\n\u001b[32m--> \u001b[39m\u001b[32m221\u001b[39m     popen_obj = \u001b[43msubprocess\u001b[49m\u001b[43m.\u001b[49m\u001b[43mPopen\u001b[49m\u001b[43m(\u001b[49m\n\u001b[32m    222\u001b[39m \u001b[43m        \u001b[49m\u001b[43m[\u001b[49m\u001b[43mcommand\u001b[49m\u001b[43m,\u001b[49m\u001b[43m \u001b[49m\u001b[43m*\u001b[49m\u001b[43margs\u001b[49m\u001b[43m]\u001b[49m\u001b[43m,\u001b[49m\n\u001b[32m    223\u001b[39m \u001b[43m        \u001b[49m\u001b[43mstdin\u001b[49m\u001b[43m=\u001b[49m\u001b[43msubprocess\u001b[49m\u001b[43m.\u001b[49m\u001b[43mPIPE\u001b[49m\u001b[43m,\u001b[49m\n\u001b[32m    224\u001b[39m \u001b[43m        \u001b[49m\u001b[43mstdout\u001b[49m\u001b[43m=\u001b[49m\u001b[43msubprocess\u001b[49m\u001b[43m.\u001b[49m\u001b[43mPIPE\u001b[49m\u001b[43m,\u001b[49m\n\u001b[32m    225\u001b[39m \u001b[43m        \u001b[49m\u001b[43mstderr\u001b[49m\u001b[43m=\u001b[49m\u001b[43merrlog\u001b[49m\u001b[43m,\u001b[49m\n\u001b[32m    226\u001b[39m \u001b[43m        \u001b[49m\u001b[43menv\u001b[49m\u001b[43m=\u001b[49m\u001b[43menv\u001b[49m\u001b[43m,\u001b[49m\n\u001b[32m    227\u001b[39m \u001b[43m        \u001b[49m\u001b[43mcwd\u001b[49m\u001b[43m=\u001b[49m\u001b[43mcwd\u001b[49m\u001b[43m,\u001b[49m\n\u001b[32m    228\u001b[39m \u001b[43m        \u001b[49m\u001b[43mbufsize\u001b[49m\u001b[43m=\u001b[49m\u001b[32;43m0\u001b[39;49m\u001b[43m,\u001b[49m\n\u001b[32m    229\u001b[39m \u001b[43m    \u001b[49m\u001b[43m)\u001b[49m\n\u001b[32m    230\u001b[39m \u001b[38;5;28;01mreturn\u001b[39;00m FallbackProcess(popen_obj)\n",
      "\u001b[36mFile \u001b[39m\u001b[32mc:\\Users\\solan_k4hy1rm\\anaconda3\\Lib\\subprocess.py:1005\u001b[39m, in \u001b[36mPopen.__init__\u001b[39m\u001b[34m(self, args, bufsize, executable, stdin, stdout, stderr, preexec_fn, close_fds, shell, cwd, env, universal_newlines, startupinfo, creationflags, restore_signals, start_new_session, pass_fds, user, group, extra_groups, encoding, errors, text, umask, pipesize, process_group)\u001b[39m\n\u001b[32m    988\u001b[39m \u001b[38;5;66;03m# Input and output objects. The general principle is like\u001b[39;00m\n\u001b[32m    989\u001b[39m \u001b[38;5;66;03m# this:\u001b[39;00m\n\u001b[32m    990\u001b[39m \u001b[38;5;66;03m#\u001b[39;00m\n\u001b[32m   (...)\u001b[39m\u001b[32m   1000\u001b[39m \u001b[38;5;66;03m# are -1 when not using PIPEs. The child objects are -1\u001b[39;00m\n\u001b[32m   1001\u001b[39m \u001b[38;5;66;03m# when not redirecting.\u001b[39;00m\n\u001b[32m   1003\u001b[39m (p2cread, p2cwrite,\n\u001b[32m   1004\u001b[39m  c2pread, c2pwrite,\n\u001b[32m-> \u001b[39m\u001b[32m1005\u001b[39m  errread, errwrite) = \u001b[38;5;28;43mself\u001b[39;49m\u001b[43m.\u001b[49m\u001b[43m_get_handles\u001b[49m\u001b[43m(\u001b[49m\u001b[43mstdin\u001b[49m\u001b[43m,\u001b[49m\u001b[43m \u001b[49m\u001b[43mstdout\u001b[49m\u001b[43m,\u001b[49m\u001b[43m \u001b[49m\u001b[43mstderr\u001b[49m\u001b[43m)\u001b[49m\n\u001b[32m   1007\u001b[39m \u001b[38;5;66;03m# From here on, raising exceptions may cause file descriptor leakage\u001b[39;00m\n\u001b[32m   1008\u001b[39m \n\u001b[32m   1009\u001b[39m \u001b[38;5;66;03m# We wrap OS handles *before* launching the child, otherwise a\u001b[39;00m\n\u001b[32m   1010\u001b[39m \u001b[38;5;66;03m# quickly terminating child could make our fds unwrappable\u001b[39;00m\n\u001b[32m   1011\u001b[39m \u001b[38;5;66;03m# (see #8458).\u001b[39;00m\n",
      "\u001b[36mFile \u001b[39m\u001b[32mc:\\Users\\solan_k4hy1rm\\anaconda3\\Lib\\subprocess.py:1422\u001b[39m, in \u001b[36mPopen._get_handles\u001b[39m\u001b[34m(self, stdin, stdout, stderr)\u001b[39m\n\u001b[32m   1420\u001b[39m \u001b[38;5;28;01melse\u001b[39;00m:\n\u001b[32m   1421\u001b[39m     \u001b[38;5;66;03m# Assuming file-like object\u001b[39;00m\n\u001b[32m-> \u001b[39m\u001b[32m1422\u001b[39m     errwrite = msvcrt.get_osfhandle(\u001b[43mstderr\u001b[49m\u001b[43m.\u001b[49m\u001b[43mfileno\u001b[49m\u001b[43m(\u001b[49m\u001b[43m)\u001b[49m)\n\u001b[32m   1423\u001b[39m errwrite = \u001b[38;5;28mself\u001b[39m._make_inheritable(errwrite)\n",
      "\u001b[36mFile \u001b[39m\u001b[32m~\\AppData\\Roaming\\Python\\Python313\\site-packages\\ipykernel\\iostream.py:371\u001b[39m, in \u001b[36mOutStream.fileno\u001b[39m\u001b[34m(self)\u001b[39m\n\u001b[32m    370\u001b[39m msg = \u001b[33m\"\u001b[39m\u001b[33mfileno\u001b[39m\u001b[33m\"\u001b[39m\n\u001b[32m--> \u001b[39m\u001b[32m371\u001b[39m \u001b[38;5;28;01mraise\u001b[39;00m io.UnsupportedOperation(msg)\n",
      "\u001b[31mUnsupportedOperation\u001b[39m: fileno",
      "\nThe above exception was the direct cause of the following exception:\n",
      "\u001b[31mRuntimeError\u001b[39m                              Traceback (most recent call last)",
      "\u001b[36mCell\u001b[39m\u001b[36m \u001b[39m\u001b[32mIn[2]\u001b[39m\u001b[32m, line 46\u001b[39m\n\u001b[32m      6\u001b[39m         response = \u001b[38;5;28;01mawait\u001b[39;00m client.chat.completions.create(\n\u001b[32m      7\u001b[39m             model=\u001b[33m\"\u001b[39m\u001b[33mai/gemma3\u001b[39m\u001b[33m\"\u001b[39m,\n\u001b[32m      8\u001b[39m             messages=[{\u001b[33m\"\u001b[39m\u001b[33mrole\u001b[39m\u001b[33m\"\u001b[39m: \u001b[33m\"\u001b[39m\u001b[33muser\u001b[39m\u001b[33m\"\u001b[39m, \u001b[33m\"\u001b[39m\u001b[33mcontent\u001b[39m\u001b[33m\"\u001b[39m: \u001b[33m\"\u001b[39m\u001b[33mSearch for latest news of AI and provide detailed summary for each.\u001b[39m\u001b[33m\"\u001b[39m}],\n\u001b[32m   (...)\u001b[39m\u001b[32m     42\u001b[39m             }\n\u001b[32m     43\u001b[39m         )\n\u001b[32m     44\u001b[39m         \u001b[38;5;28mprint\u001b[39m(response[\u001b[33m'\u001b[39m\u001b[33mchoices\u001b[39m\u001b[33m'\u001b[39m][\u001b[32m0\u001b[39m][\u001b[33m'\u001b[39m\u001b[33mmessage\u001b[39m\u001b[33m'\u001b[39m][\u001b[33m'\u001b[39m\u001b[33mcontent\u001b[39m\u001b[33m'\u001b[39m])\n\u001b[32m---> \u001b[39m\u001b[32m46\u001b[39m \u001b[38;5;28;01mawait\u001b[39;00m main()\n",
      "\u001b[36mCell\u001b[39m\u001b[36m \u001b[39m\u001b[32mIn[2]\u001b[39m\u001b[32m, line 6\u001b[39m, in \u001b[36mmain\u001b[39m\u001b[34m()\u001b[39m\n\u001b[32m      4\u001b[39m \u001b[38;5;28;01masync\u001b[39;00m \u001b[38;5;28;01mdef\u001b[39;00m\u001b[38;5;250m \u001b[39m\u001b[34mmain\u001b[39m():\n\u001b[32m      5\u001b[39m     \u001b[38;5;28;01masync\u001b[39;00m \u001b[38;5;28;01mwith\u001b[39;00m AsyncClient(api_key=\u001b[33m\"\u001b[39m\u001b[33mnan\u001b[39m\u001b[33m\"\u001b[39m) \u001b[38;5;28;01mas\u001b[39;00m client:\n\u001b[32m----> \u001b[39m\u001b[32m6\u001b[39m         response = \u001b[38;5;28;01mawait\u001b[39;00m client.chat.completions.create(\n\u001b[32m      7\u001b[39m             model=\u001b[33m\"\u001b[39m\u001b[33mai/gemma3\u001b[39m\u001b[33m\"\u001b[39m,\n\u001b[32m      8\u001b[39m             messages=[{\u001b[33m\"\u001b[39m\u001b[33mrole\u001b[39m\u001b[33m\"\u001b[39m: \u001b[33m\"\u001b[39m\u001b[33muser\u001b[39m\u001b[33m\"\u001b[39m, \u001b[33m\"\u001b[39m\u001b[33mcontent\u001b[39m\u001b[33m\"\u001b[39m: \u001b[33m\"\u001b[39m\u001b[33mSearch for latest news of AI and provide detailed summary for each.\u001b[39m\u001b[33m\"\u001b[39m}],\n\u001b[32m      9\u001b[39m             tools=[{\n\u001b[32m     10\u001b[39m                 \u001b[33m\"\u001b[39m\u001b[33mtype\u001b[39m\u001b[33m\"\u001b[39m: \u001b[33m\"\u001b[39m\u001b[33mmcp\u001b[39m\u001b[33m\"\u001b[39m,\n\u001b[32m     11\u001b[39m                 \u001b[33m\"\u001b[39m\u001b[33mserver_label\u001b[39m\u001b[33m\"\u001b[39m: \u001b[33m\"\u001b[39m\u001b[33mduckduckgo\u001b[39m\u001b[33m\"\u001b[39m,\n\u001b[32m     12\u001b[39m                 \u001b[33m\"\u001b[39m\u001b[33mserver_description\u001b[39m\u001b[33m\"\u001b[39m: \u001b[33m\"\u001b[39m\u001b[33mDuckDuckGo search and content fetching MCP server.\u001b[39m\u001b[33m\"\u001b[39m,\n\u001b[32m     13\u001b[39m                 \u001b[33m\"\u001b[39m\u001b[33mcommand\u001b[39m\u001b[33m\"\u001b[39m: \u001b[33m\"\u001b[39m\u001b[33mdocker\u001b[39m\u001b[33m\"\u001b[39m,\n\u001b[32m     14\u001b[39m                 \u001b[33m\"\u001b[39m\u001b[33margs\u001b[39m\u001b[33m\"\u001b[39m: [\u001b[33m\"\u001b[39m\u001b[33mrun\u001b[39m\u001b[33m\"\u001b[39m, \u001b[33m\"\u001b[39m\u001b[33m-i\u001b[39m\u001b[33m\"\u001b[39m, \u001b[33m\"\u001b[39m\u001b[33m--rm\u001b[39m\u001b[33m\"\u001b[39m, \u001b[33m\"\u001b[39m\u001b[33mmcp/duckduckgo\u001b[39m\u001b[33m\"\u001b[39m]\n\u001b[32m     15\u001b[39m             }],\n\u001b[32m     16\u001b[39m             tool_choice=\u001b[33m\"\u001b[39m\u001b[33malways\u001b[39m\u001b[33m\"\u001b[39m,\n\u001b[32m     17\u001b[39m             response_format={\n\u001b[32m     18\u001b[39m                 \u001b[33m\"\u001b[39m\u001b[33mtype\u001b[39m\u001b[33m\"\u001b[39m: \u001b[33m\"\u001b[39m\u001b[33mjson_schema\u001b[39m\u001b[33m\"\u001b[39m,\n\u001b[32m     19\u001b[39m                 \u001b[33m\"\u001b[39m\u001b[33mjson_schema\u001b[39m\u001b[33m\"\u001b[39m: {\n\u001b[32m     20\u001b[39m                     \u001b[33m\"\u001b[39m\u001b[33mname\u001b[39m\u001b[33m\"\u001b[39m: \u001b[33m\"\u001b[39m\u001b[33mai_news_summary\u001b[39m\u001b[33m\"\u001b[39m,\n\u001b[32m     21\u001b[39m                     \u001b[33m\"\u001b[39m\u001b[33mschema\u001b[39m\u001b[33m\"\u001b[39m: {\n\u001b[32m     22\u001b[39m                         \u001b[33m\"\u001b[39m\u001b[33mtype\u001b[39m\u001b[33m\"\u001b[39m: \u001b[33m\"\u001b[39m\u001b[33mobject\u001b[39m\u001b[33m\"\u001b[39m,\n\u001b[32m     23\u001b[39m                         \u001b[33m\"\u001b[39m\u001b[33mproperties\u001b[39m\u001b[33m\"\u001b[39m: {\n\u001b[32m     24\u001b[39m                             \u001b[33m\"\u001b[39m\u001b[33mnews_items\u001b[39m\u001b[33m\"\u001b[39m: {\n\u001b[32m     25\u001b[39m                                 \u001b[33m\"\u001b[39m\u001b[33mtype\u001b[39m\u001b[33m\"\u001b[39m: \u001b[33m\"\u001b[39m\u001b[33marray\u001b[39m\u001b[33m\"\u001b[39m,\n\u001b[32m     26\u001b[39m                                 \u001b[33m\"\u001b[39m\u001b[33mitems\u001b[39m\u001b[33m\"\u001b[39m: {\n\u001b[32m     27\u001b[39m                                     \u001b[33m\"\u001b[39m\u001b[33mtype\u001b[39m\u001b[33m\"\u001b[39m: \u001b[33m\"\u001b[39m\u001b[33mobject\u001b[39m\u001b[33m\"\u001b[39m,\n\u001b[32m     28\u001b[39m                                     \u001b[33m\"\u001b[39m\u001b[33mproperties\u001b[39m\u001b[33m\"\u001b[39m: {\n\u001b[32m     29\u001b[39m                                         \u001b[33m\"\u001b[39m\u001b[33mtitle\u001b[39m\u001b[33m\"\u001b[39m: {\u001b[33m\"\u001b[39m\u001b[33mtype\u001b[39m\u001b[33m\"\u001b[39m: \u001b[33m\"\u001b[39m\u001b[33mstring\u001b[39m\u001b[33m\"\u001b[39m},\n\u001b[32m     30\u001b[39m                                         \u001b[33m\"\u001b[39m\u001b[33msummary\u001b[39m\u001b[33m\"\u001b[39m: {\u001b[33m\"\u001b[39m\u001b[33mtype\u001b[39m\u001b[33m\"\u001b[39m: \u001b[33m\"\u001b[39m\u001b[33mstring\u001b[39m\u001b[33m\"\u001b[39m},\n\u001b[32m     31\u001b[39m                                         \u001b[33m\"\u001b[39m\u001b[33murl\u001b[39m\u001b[33m\"\u001b[39m: {\u001b[33m\"\u001b[39m\u001b[33mtype\u001b[39m\u001b[33m\"\u001b[39m: \u001b[33m\"\u001b[39m\u001b[33mstring\u001b[39m\u001b[33m\"\u001b[39m}\n\u001b[32m     32\u001b[39m                                     },\n\u001b[32m     33\u001b[39m                                     \u001b[33m\"\u001b[39m\u001b[33mrequired\u001b[39m\u001b[33m\"\u001b[39m: [\u001b[33m\"\u001b[39m\u001b[33mtitle\u001b[39m\u001b[33m\"\u001b[39m, \u001b[33m\"\u001b[39m\u001b[33msummary\u001b[39m\u001b[33m\"\u001b[39m, \u001b[33m\"\u001b[39m\u001b[33murl\u001b[39m\u001b[33m\"\u001b[39m]\n\u001b[32m     34\u001b[39m                                 }\n\u001b[32m     35\u001b[39m                             },\n\u001b[32m     36\u001b[39m                             \u001b[33m\"\u001b[39m\u001b[33moverall_trends\u001b[39m\u001b[33m\"\u001b[39m: {\u001b[33m\"\u001b[39m\u001b[33mtype\u001b[39m\u001b[33m\"\u001b[39m: \u001b[33m\"\u001b[39m\u001b[33mstring\u001b[39m\u001b[33m\"\u001b[39m}\n\u001b[32m     37\u001b[39m                         },\n\u001b[32m     38\u001b[39m                         \u001b[33m\"\u001b[39m\u001b[33mrequired\u001b[39m\u001b[33m\"\u001b[39m: [\u001b[33m\"\u001b[39m\u001b[33mnews_items\u001b[39m\u001b[33m\"\u001b[39m, \u001b[33m\"\u001b[39m\u001b[33moverall_trends\u001b[39m\u001b[33m\"\u001b[39m]\n\u001b[32m     39\u001b[39m                     },\n\u001b[32m     40\u001b[39m                     \u001b[33m\"\u001b[39m\u001b[33mstrict\u001b[39m\u001b[33m\"\u001b[39m: \u001b[38;5;28;01mTrue\u001b[39;00m\n\u001b[32m     41\u001b[39m                 }\n\u001b[32m     42\u001b[39m             }\n\u001b[32m     43\u001b[39m         )\n\u001b[32m     44\u001b[39m         \u001b[38;5;28mprint\u001b[39m(response[\u001b[33m'\u001b[39m\u001b[33mchoices\u001b[39m\u001b[33m'\u001b[39m][\u001b[32m0\u001b[39m][\u001b[33m'\u001b[39m\u001b[33mmessage\u001b[39m\u001b[33m'\u001b[39m][\u001b[33m'\u001b[39m\u001b[33mcontent\u001b[39m\u001b[33m'\u001b[39m])\n",
      "\u001b[36mFile \u001b[39m\u001b[32mF:\\DockerOpenAI\\docker_model_runner\\async_client.py:210\u001b[39m, in \u001b[36mAsyncChatCompletions.create\u001b[39m\u001b[34m(self, model, messages, tool_choice, **kwargs)\u001b[39m\n\u001b[32m    208\u001b[39m \u001b[38;5;28;01mif\u001b[39;00m tool.get(\u001b[33m\"\u001b[39m\u001b[33mtype\u001b[39m\u001b[33m\"\u001b[39m) == \u001b[33m\"\u001b[39m\u001b[33mmcp\u001b[39m\u001b[33m\"\u001b[39m:\n\u001b[32m    209\u001b[39m     config = {\u001b[33m\"\u001b[39m\u001b[33mmcpServers\u001b[39m\u001b[33m\"\u001b[39m: {tool[\u001b[33m\"\u001b[39m\u001b[33mserver_label\u001b[39m\u001b[33m\"\u001b[39m]: {\u001b[33m\"\u001b[39m\u001b[33mcommand\u001b[39m\u001b[33m\"\u001b[39m: tool[\u001b[33m\"\u001b[39m\u001b[33mcommand\u001b[39m\u001b[33m\"\u001b[39m], \u001b[33m\"\u001b[39m\u001b[33margs\u001b[39m\u001b[33m\"\u001b[39m: tool[\u001b[33m\"\u001b[39m\u001b[33margs\u001b[39m\u001b[33m\"\u001b[39m]}}}\n\u001b[32m--> \u001b[39m\u001b[32m210\u001b[39m     \u001b[38;5;28;01masync\u001b[39;00m \u001b[38;5;28;01mwith\u001b[39;00m Client(config) \u001b[38;5;28;01mas\u001b[39;00m mcp_client:\n\u001b[32m    211\u001b[39m         available_tools = \u001b[38;5;28;01mawait\u001b[39;00m mcp_client.list_tools()\n\u001b[32m    212\u001b[39m         \u001b[38;5;28;01mfor\u001b[39;00m t \u001b[38;5;129;01min\u001b[39;00m available_tools:\n",
      "\u001b[36mFile \u001b[39m\u001b[32mc:\\Users\\solan_k4hy1rm\\anaconda3\\Lib\\site-packages\\fastmcp\\client\\client.py:374\u001b[39m, in \u001b[36mClient.__aenter__\u001b[39m\u001b[34m(self)\u001b[39m\n\u001b[32m    373\u001b[39m \u001b[38;5;28;01masync\u001b[39;00m \u001b[38;5;28;01mdef\u001b[39;00m\u001b[38;5;250m \u001b[39m\u001b[34m__aenter__\u001b[39m(\u001b[38;5;28mself\u001b[39m):\n\u001b[32m--> \u001b[39m\u001b[32m374\u001b[39m     \u001b[38;5;28;01mreturn\u001b[39;00m \u001b[38;5;28;01mawait\u001b[39;00m \u001b[38;5;28mself\u001b[39m._connect()\n",
      "\u001b[36mFile \u001b[39m\u001b[32mc:\\Users\\solan_k4hy1rm\\anaconda3\\Lib\\site-packages\\fastmcp\\client\\client.py:419\u001b[39m, in \u001b[36mClient._connect\u001b[39m\u001b[34m(self)\u001b[39m\n\u001b[32m    417\u001b[39m             \u001b[38;5;28;01mif\u001b[39;00m \u001b[38;5;28misinstance\u001b[39m(exception, httpx.HTTPStatusError):\n\u001b[32m    418\u001b[39m                 \u001b[38;5;28;01mraise\u001b[39;00m exception\n\u001b[32m--> \u001b[39m\u001b[32m419\u001b[39m             \u001b[38;5;28;01mraise\u001b[39;00m \u001b[38;5;167;01mRuntimeError\u001b[39;00m(\n\u001b[32m    420\u001b[39m                 \u001b[33mf\u001b[39m\u001b[33m\"\u001b[39m\u001b[33mClient failed to connect: \u001b[39m\u001b[38;5;132;01m{\u001b[39;00mexception\u001b[38;5;132;01m}\u001b[39;00m\u001b[33m\"\u001b[39m\n\u001b[32m    421\u001b[39m             ) \u001b[38;5;28;01mfrom\u001b[39;00m\u001b[38;5;250m \u001b[39m\u001b[34;01mexception\u001b[39;00m\n\u001b[32m    423\u001b[39m     \u001b[38;5;28mself\u001b[39m._session_state.nesting_counter += \u001b[32m1\u001b[39m\n\u001b[32m    425\u001b[39m \u001b[38;5;28;01mreturn\u001b[39;00m \u001b[38;5;28mself\u001b[39m\n",
      "\u001b[31mRuntimeError\u001b[39m: Client failed to connect: fileno"
     ]
    }
   ],
   "source": [
    "import asyncio\n",
    "from docker_model_runner import AsyncClient\n",
    "\n",
    "async def main():\n",
    "    async with AsyncClient(api_key=\"nan\") as client:\n",
    "        response = await client.chat.completions.create(\n",
    "            model=\"ai/gemma3\",\n",
    "            messages=[{\"role\": \"user\", \"content\": \"Search for latest news of AI and provide detailed summary for each.\"}],\n",
    "            tools=[{\n",
    "                \"type\": \"mcp\",\n",
    "                \"server_label\": \"duckduckgo\",\n",
    "                \"server_description\": \"DuckDuckGo search and content fetching MCP server.\",\n",
    "                \"command\": \"docker\",\n",
    "                \"args\": [\"run\", \"-i\", \"--rm\", \"mcp/duckduckgo\"]\n",
    "            }],\n",
    "            tool_choice=\"always\",\n",
    "            response_format={\n",
    "                \"type\": \"json_schema\",\n",
    "                \"json_schema\": {\n",
    "                    \"name\": \"ai_news_summary\",\n",
    "                    \"schema\": {\n",
    "                        \"type\": \"object\",\n",
    "                        \"properties\": {\n",
    "                            \"news_items\": {\n",
    "                                \"type\": \"array\",\n",
    "                                \"items\": {\n",
    "                                    \"type\": \"object\",\n",
    "                                    \"properties\": {\n",
    "                                        \"title\": {\"type\": \"string\"},\n",
    "                                        \"summary\": {\"type\": \"string\"},\n",
    "                                        \"url\": {\"type\": \"string\"}\n",
    "                                    },\n",
    "                                    \"required\": [\"title\", \"summary\", \"url\"]\n",
    "                                }\n",
    "                            },\n",
    "                            \"overall_trends\": {\"type\": \"string\"}\n",
    "                        },\n",
    "                        \"required\": [\"news_items\", \"overall_trends\"]\n",
    "                    },\n",
    "                    \"strict\": True\n",
    "                }\n",
    "            }\n",
    "        )\n",
    "        print(response['choices'][0]['message']['content'])\n",
    "\n",
    "await main()"
   ]
  },
  {
   "cell_type": "code",
   "execution_count": 17,
   "id": "417d933b",
   "metadata": {},
   "outputs": [
    {
     "name": "stdout",
     "output_type": "stream",
     "text": [
      "[0.007710201665759087, -0.008788954466581345, -0.023508220911026, 0.0697217658162117, -0.021678771823644638, -0.04509575664997101, -0.022134730592370033, 0.0017764719668775797, -0.005829279776662588, -0.02297433651983738, -0.04212643951177597, -0.04386404901742935, -0.0014833583263680339, 0.05454818159341812, -0.018263962119817734, 0.015653446316719055, 0.04223494231700897, 0.010394380427896976, 0.004645493347197771, -0.01703541725873947, 0.018221691250801086, 0.018544785678386688, 0.011083877645432949, 0.010876068845391273, 0.041781388223171234, -0.0024798328522592783, 0.0011044746497645974, 0.020612932741642, 0.01398042868822813, -0.020737553015351295, 0.030661746859550476, -0.03267722204327583, -0.03965640068054199, -0.031118256971240044, -0.016877302899956703, -0.03263862803578377, 0.021814335137605667, 0.019238000735640526, 0.005978124216198921, -0.35350337624549866, 0.0037678545340895653, -0.010160112753510475, 0.021877139806747437, -0.00918890442699194, -0.04364309087395668, 0.00717913219705224, 0.020567351952195168, -0.027739256620407104, -0.040769077837467194, 0.002729725791141391, -0.06028161942958832, -0.011432292871177197, 0.01751013658940792, -0.08097392320632935, -0.03618456795811653, -0.029702451080083847, -0.022071359679102898, 0.024135999381542206, -0.01000996120274067, 0.023068930953741074, -0.002054900862276554, 0.001708261203020811, 0.017627935856580734, -0.0065951575525105, -0.032040905207395554, -0.032995108515024185, 0.0126869585365057, 0.14050838351249695, 0.018120992928743362, 0.05889340862631798, 0.005305751692503691, -0.008903737179934978, 0.013030347414314747, -0.022745603695511818, 0.014476915821433067, -0.002169988350942731, 0.035445503890514374, -0.060972657054662704, -0.01918814145028591, 0.02045448124408722, -0.013047683984041214, -0.0023826751857995987, 0.026644079014658928, -0.0028546182438731194, -0.051357511430978775, -0.02609938010573387, -0.0070038349367678165, 0.020801402628421783, -0.03333159536123276, -0.005322479642927647, 0.034239426255226135, 0.005797234363853931, 0.0022393553517758846, -0.03213639184832573, -0.012975022196769714, 0.01760272867977619, -0.021245911717414856, -0.03284553810954094, 0.018453547731041908, 0.02079593949019909, 0.011860554106533527, -0.02737426944077015, -0.039311230182647705, 0.012131892144680023, 0.03274286910891533, -0.006750705651938915, -0.08599162846803665, -0.0043137227185070515, 0.004733471665531397, 0.011259200982749462, 0.013035735115408897, 0.011010881513357162, -0.03911324217915535, 0.0246401596814394, 0.021071316674351692, 0.032715510576963425, 0.0005592877860181034, -0.012074455618858337, -0.015496201813220978, 0.01326559204608202, -0.019032344222068787, 0.012460258789360523, -0.002078558783978224, -0.0005419161752797663, -0.06591826677322388, -0.016390016302466393, -0.003859827760607004, 0.03456512466073036, -0.026891633868217468, -0.02618655189871788, 0.05050726607441902, 0.015838300809264183, -0.018898149952292442, -0.027256183326244354, -0.025022657588124275, -0.003696042113006115, 0.02027459442615509, 0.011590003967285156, 0.01592434197664261, -0.02225012332201004, 0.01683885231614113, -0.004608468618243933, 0.024952128529548645, -0.020042508840560913, -0.02775772102177143, 0.024516088888049126, 0.013478081673383713, -0.007913053967058659, 0.05405116081237793, 0.002023822395130992, -0.044952910393476486, 0.027472181245684624, 0.04512614384293556, 0.018127253279089928, 0.01737072691321373, 0.006946364883333445, 0.04431506618857384, 0.02384624071419239, 0.002584608271718025, 0.015844644978642464, 0.0051068649627268314, -0.0039097317494452, -0.06252268701791763, -0.00590974185615778, -0.007612449117004871, -0.01611410267651081, -0.022136738523840904, 0.0234744381159544, 0.015156867913901806, 0.019186006858944893, 0.030276646837592125, 0.0048079234547913074, 0.013675631955265999, -0.021464455872774124, -0.015446970239281654, 0.0005790586001239717, 0.07058484852313995, -0.0665469616651535, 0.03341342881321907, 0.0022623296827077866, -0.008780736476182938, -0.03773219883441925, -0.050951745361089706, -0.02396780252456665, 0.022910092025995255, -0.04447703808546066, -0.0035647565964609385, 0.007900211028754711, -0.003538543824106455, -0.029596706852316856, -0.03496341407299042, -0.02133495733141899, 0.017347725108265877, -0.007127963472157717, -0.03310977667570114, -0.013341747224330902, -0.0292209405452013, 0.007104787044227123, 0.002808585297316313, -0.06621365249156952, 0.01458120346069336, -0.042354386299848557, -0.03650170564651489, 0.004506466910243034, -0.04028463363647461, 0.007540676277130842, -0.019117828458547592, -0.023088525980710983, -0.010049941018223763, 0.05191880837082863, 0.04821906238794327, -0.020189853385090828, -0.013278085738420486, -0.024577949196100235, 0.0005640661111101508, 0.0034372617956250906, 0.016544710844755173, -0.004329003393650055, 0.0020160807762295008, 0.028295578435063362, -0.003990601282566786, 0.008169095031917095, -0.022564684972167015, -0.038099680095911026, 0.023308362811803818, 0.012123494409024715, -0.02365924045443535, 0.035362210124731064, -0.004161177668720484, -0.004196522757411003, -0.028849197551608086, 0.02371184341609478, -0.01459833886474371, 0.06250370293855667, 0.022437069565057755, -0.007567242719233036, -0.015321634709835052, 0.03612261265516281, -0.023576974868774414, 0.004852743819355965, 0.013303231447935104, 0.038191504776477814, 0.0010333468671888113, -0.022050252184271812, 0.026925116777420044, 0.004861883353441954, 0.0003213362651877105, 0.009309007786214352, -0.03322463110089302, -0.03479806333780289, -0.05053539201617241, -0.015781965106725693, -0.047812823206186295, -0.026876991614699364, 0.004194542765617371, 0.003204477485269308, -0.03245589882135391, -0.03835133835673332, 0.051614318042993546, -0.0002580129075795412, -0.01444707065820694, 0.004741379991173744, -0.005093440413475037, -0.048853080719709396, -0.014209453947842121, -0.0133570721372962, -0.02322738617658615, 0.011232391931116581, -0.02097337320446968, -0.055004559457302094, -0.0037822893355041742, -0.02031235583126545, -0.025744380429387093, 0.03865614905953407, 0.023518536239862442, 0.006868318188935518, -0.0037620726507157087, 0.03272652253508568, 0.09160926192998886, -0.015924574807286263, 0.04591536894440651, 0.026173625141382217, 0.03349106013774872, 0.011966344900429249, -0.009969111531972885, -0.01082823146134615, -0.030764663591980934, -0.004484039265662432, -0.019866859540343285, 0.004447143524885178, 0.038774166256189346, -0.01107887364923954, -0.09687435626983643, 0.010805902071297169, 0.0005125790485180914, -0.014484227634966373, 0.06236596778035164, -0.07331515848636627, -0.031417038291692734, -0.029512589797377586, -0.030154211446642876, 0.03280499577522278, -0.034697581082582474, -0.01349017396569252, -0.029799016192555428, -0.010778038762509823, 0.007160790264606476, -0.04235271364450455, 0.011068492196500301, -0.028321756049990654, 0.03887496516108513, -0.0080629987642169, -0.03771113231778145, -0.04762667044997215, 0.015852194279432297, -0.024308841675519943, -0.052750177681446075, 0.08918027579784393, 0.02651217393577099, -0.030443139374256134, -0.010563294403254986, 0.01031531672924757, -0.0032929168082773685, 0.0020678641740232706, -0.02826908975839615, -0.028093289583921432, 0.0029093287885189056, -0.02151409536600113, 0.0013638081727549434, 0.02196217142045498, -0.03437667340040207, -0.04670414701104164, 0.021953292191028595, -0.06076609343290329, 0.026737729087471962, -0.05062692239880562, 0.016085345298051834, -0.010104920715093613, 0.012923209927976131, -0.004495471250265837, 0.008283239789307117, -0.03440434858202934, -0.05903245881199837, 0.012464381754398346, -0.0034500735346227884, 0.04398443549871445, -0.004729501903057098, 0.007631506305187941, 0.045652806758880615, 0.017733801156282425, -0.012732207775115967, -0.00021196005400270224, 0.024438876658678055, 0.17857040464878082, -0.03077073208987713, -0.0029411630239337683, 0.0755104050040245, -0.005049614235758781, 0.0003336420631967485, 0.014417428523302078, 0.007117136847227812, 0.011822983622550964, -0.04162538796663284, 0.025198299437761307, 0.028101518750190735, -0.0012887691846117377, -0.02343062497675419, -0.00968057382851839, 0.00332877179607749, 0.0197655837982893, -0.03725464642047882, 0.009717142209410667, 0.03317399322986603, -0.0017185525503009558, 0.005868201144039631, 0.021756699308753014, -0.01646583341062069, -0.004179717041552067, 0.018234848976135254, 0.09400467574596405, -0.04082759469747543, 0.004464728757739067, 0.021567802876234055, -0.023692486807703972, -0.006501596421003342, 0.017067410051822662, -0.0010763901518657804, 0.011795294471085072, -0.007689032703638077, 0.005791020579636097, 0.00896360632032156, -0.00789660308510065, -0.01375633291900158, 0.015656111761927605, -0.03861835598945618, -0.05256399139761925, -0.0182216577231884, 0.014228836633265018, -0.0668143555521965, 0.00792047567665577, -0.005989841651171446, 0.019490543752908707, 0.010446340776979923, -0.02680027298629284, -0.04374488443136215, 0.017835505306720734, -0.014589842408895493, 0.41068342328071594, 0.02631087601184845, -0.008462580852210522, -0.047159358859062195, 0.004100644029676914, -0.030762257054448128, -0.07559208571910858, 0.022718895226716995, 0.005607313476502895, -0.009722442366182804, -0.019943708553910255, -0.02566886693239212, -0.006190075073391199, 0.04099782183766365, -0.010382638312876225, 0.00093804084463045, 0.03135223686695099, -0.042524177581071854, -0.04416544735431671, 0.03315630927681923, 0.017012905329465866, 0.014520893804728985, 0.03112059086561203, -0.020103678107261658, 0.04384440928697586, 0.0189204104244709, 0.02554509975016117, 0.010181053541600704, -0.01938704214990139, 0.030299171805381775, -0.028807682916522026, -0.020836524665355682, -0.021962342783808708, 0.032903604209423065, 0.0019637674558907747, 0.017583953216671944, 0.02411642111837864, -0.020128149539232254, 0.018792886286973953, 0.02343887835741043, -0.023766832426190376, 0.03989406302571297, -0.033979956060647964, 0.0026784001383930445, 0.02516818232834339, 0.05148768052458763, -0.048332881182432175, 0.013544352725148201, 0.018257467076182365, 0.02845606580376625, -0.07828615605831146, -0.03573682904243469, -0.011583993211388588, 0.016890570521354675, 0.027264129370450974, 0.031238988041877747, -0.011959834955632687, -0.02533160336315632, 0.036912381649017334, -0.010721010155975819, -0.014425920322537422, 0.0024756798520684242, -0.028637010604143143, 0.009861774742603302, 0.033565569669008255, -0.0063066259026527405, 0.0033801505342125893, 0.0007229386828839779, 0.01729770191013813, -0.01867849752306938, -0.013425641693174839, 0.002453231019899249, -0.03492473065853119, -0.00884958915412426, 0.024076731875538826, -0.041202906519174576, 0.024130720645189285, -0.006784017197787762, -0.031019164249300957, 0.00699019618332386, -0.029400845989584923, 0.00895047839730978, 0.03945488482713699, -0.05004854500293732, -0.0023594596423208714, 0.024113040417432785, -0.006655562203377485, 0.014115569181740284, 0.013578608632087708, -0.011393748223781586, -0.005857918411493301, 0.021127061918377876, -0.02253502979874611, 0.01854516938328743, 0.015152419917285442, -0.03145226463675499, -0.013673673383891582, 0.005489001516252756, -0.004165149759501219, 0.023011283949017525, 0.015142395161092281, -0.038960687816143036, -0.014563055709004402, -0.00929840374737978, 0.05915508046746254, 0.08863699436187744, -0.027381766587495804, -0.014603983610868454, -0.02674611285328865, 0.0062691764906048775, -0.00607034657150507, 0.004377493169158697, 0.04151828587055206, -0.011749936267733574, 0.06205000355839729, -0.004708096385002136, 0.030041156336665154, 0.04424654319882393, 0.0037182397209107876, -0.026862939819693565, 0.08577610552310944, 0.01219554990530014, -0.06420671939849854, 0.010922805406153202, 0.004984681960195303, -0.025958843529224396, 0.0453033410012722, -0.013688798062503338, -0.014880452305078506, -0.017365723848342896, 0.010586121119558811, -0.012532497756183147, 0.007074210327118635, 0.0025980144273489714, 0.031234845519065857, -0.02613571658730507, -0.04974033311009407, 0.06806624680757523, 0.01810418628156185, 0.02348301373422146, 0.004555678926408291, 0.0009657899499870837, 0.004013244062662125, -0.01992660202085972, -0.003369727171957493, -0.02122046798467636, -0.024591857567429543, 0.01655426248908043, -0.06638153642416, -0.006714609917253256, 0.006409811787307262, 0.0182818416506052, -0.010902432724833488, 0.020757075399160385, 0.0015069026267156005, -0.018751904368400574, -0.005619274452328682, 0.015014155767858028, 0.013902726583182812, 0.021386129781603813, -0.012722418643534184, -0.028732825070619583, 0.0014445144915953279, 0.024614114314317703, -0.029185591265559196, -0.02689293399453163, 0.023089338093996048, 0.025254040956497192, 0.004953532014042139, -0.018806617707014084, -0.01049515325576067, 0.009612010791897774, 0.006489291321486235, -0.0008076167432591319, 0.04722334071993828, 0.09084101766347885, 0.034358058124780655, -0.012067727744579315, 0.01580347865819931, 0.03018364869058132, -0.0010582981631159782, 0.04493042826652527, -0.02116614393889904, 0.033017247915267944, -0.02517428994178772, -0.024175068363547325, -0.008036408573389053, -0.03323712199926376, 0.04010947421193123, -0.0857868492603302, -0.02598748169839382, -0.017912790179252625, 0.013809097930788994, 0.020573895424604416, 0.000247360352659598, 0.0035594957880675793, -0.008188310079276562, 0.009016667492687702, 7.786547212162986e-05, -0.008946755900979042, -0.002184529323130846, 0.002209726255387068, -0.00803727563470602, 0.0046042632311582565, -0.024470020085573196, -0.03933298960328102, -0.00021065815235488117, -0.011167025193572044, 0.005440850742161274, 0.03757802024483681, -0.029933201149106026, 0.012139729224145412, -0.05666248872876167, -0.005975459702312946, -0.02135561965405941, 0.058835819363594055, 0.027601510286331177, -0.02782227098941803, -0.003812807146459818, 0.008537051267921925, -0.041553400456905365, 0.05036462843418121, -0.0038996601942926645, 0.025013113394379616, -0.011451763100922108, 0.019316161051392555, 0.012656928971409798, -0.03398345038294792, 0.01539312768727541, 0.009551855735480785, -0.0013589649461209774, 0.02801734395325184, -0.0002361046354053542, 0.018620172515511513, 0.009821470826864243, 0.003665266092866659, -0.021894607692956924, -0.0337444469332695, -0.001884183962829411, 0.07031409442424774, 0.019213994964957237, -0.020831670612096786, 0.013676775619387627, -0.0071476539596915245, -0.035560738295316696, 0.001358295907266438, 0.04329147934913635, -0.03536391630768776, -0.04607583209872246, -0.009649630635976791, -0.008139783516526222, -0.04940062016248703, -0.017959970980882645, -0.018974147737026215, -0.05768994614481926, 0.007464766968041658, 0.014885209500789642, -0.06394040584564209, -0.02754579298198223, -0.013032376766204834, -0.01621270552277565, 0.03480355814099312, 0.05779705196619034, -0.013499732129275799, 0.02309907227754593, 0.003426116891205311, 0.020372429862618446, -0.019922049716114998, 0.02929946966469288, -0.015352544374763966, -0.01674417033791542, -0.002037802943959832, -0.0032114675268530846, -0.06571271270513535, 0.028384754434227943, -0.015214155428111553, -0.04678990691900253, -0.03165021911263466, -0.025728624314069748, 0.014973185956478119, -0.012631038203835487, 0.025531182065606117, 0.005836500786244869, 0.018620681017637253, -0.009820394217967987, -0.08250579237937927, 0.007288615219295025, 0.017935337498784065, 0.03154747188091278, 0.04096110165119171, 0.07325850427150726, -0.03381465747952461, 0.033652156591415405, 0.016523580998182297, -0.017782047390937805, 0.005516205448657274, 0.00856009405106306, 0.04377790167927742, 0.008506573736667633, -0.011020657606422901, 0.01667792722582817, -0.0008495007059536874, -0.03228813782334328, 0.03091646172106266, -0.04319516941905022, 0.006171135697513819, 0.005709465127438307, -0.08547461032867432, 0.05816320702433586, 0.015456327237188816, -0.01130596175789833, 0.0072632841765880585, -0.04069361463189125, -0.008030159398913383, 0.02617216482758522, -0.007187206763774157, 0.004289824049919844, -0.05830930173397064, 0.004679483361542225, 0.025463668629527092, 0.007790251635015011, -0.023037904873490334, 0.002739599673077464, 0.02212098054587841, 0.12854531407356262, 0.026675406843423843, -0.0014436019118875265, 0.0003819095727521926, 0.030560098588466644, 0.009736570529639721, 0.01187108177691698, 0.03531220555305481, -0.011580483056604862, -0.036254506558179855, 0.005520935170352459, -0.04624652862548828, -0.03656250238418579, 0.03623783588409424, 0.0004533233877737075, 0.06643176823854446, 0.01918060891330242, -0.019792234525084496, -0.016571970656514168, -0.009000750258564949, 0.0047548930160701275, -0.044214289635419846, -0.015680460259318352, -0.033640217036008835, -0.06109228357672691, -0.05584127455949783, -0.02838621847331524, 0.02339315228164196, 0.0070009995251894, 0.022165272384881973, 0.012623638845980167, -0.026721132919192314, -0.007132867816835642, -0.034705597907304764, -0.049741871654987335, 0.021423401311039925, -0.025278128683567047]\n"
     ]
    }
   ],
   "source": [
    "from docker_model_runner import Client\n",
    "\n",
    "client = Client(api_key=\"nan\")  # Automatically uses http://localhost:12434/engines/llama.cpp/v1\n",
    "\n",
    "response = client.embeddings.create(\n",
    "    input=\"Hello how are you?\",\n",
    "    model=\"ai/embeddinggemma\"\n",
    ")\n",
    "\n",
    "print(response['data'][0]['embedding'])"
   ]
  },
  {
   "cell_type": "code",
   "execution_count": null,
   "id": "d235713a",
   "metadata": {},
   "outputs": [],
   "source": []
  }
 ],
 "metadata": {
  "kernelspec": {
   "display_name": "base",
   "language": "python",
   "name": "python3"
  },
  "language_info": {
   "codemirror_mode": {
    "name": "ipython",
    "version": 3
   },
   "file_extension": ".py",
   "mimetype": "text/x-python",
   "name": "python",
   "nbconvert_exporter": "python",
   "pygments_lexer": "ipython3",
   "version": "3.13.5"
  }
 },
 "nbformat": 4,
 "nbformat_minor": 5
}
